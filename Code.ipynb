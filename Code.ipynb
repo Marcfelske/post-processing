{
 "cells": [
  {
   "cell_type": "markdown",
   "metadata": {
    "colab_type": "text",
    "id": "ptxNE_yZkRWi"
   },
   "source": [
    "# 1. Install and Import"
   ]
  },
  {
   "cell_type": "code",
   "execution_count": null,
   "metadata": {
    "colab": {
     "base_uri": "https://localhost:8080/",
     "height": 221
    },
    "colab_type": "code",
    "executionInfo": {
     "elapsed": 10152,
     "status": "ok",
     "timestamp": 1581685137196,
     "user": {
      "displayName": "DISPLAYNAME",
      "photoUrl": "PHOTOURL",
      "userId": "USERID"
     },
     "user_tz": 0
    },
    "id": "-ou8SX4qqLqs",
    "outputId": "cc988939-c87d-4404-d71c-32b67f798b00"
   },
   "outputs": [],
   "source": [
    "# run_in = 'local'\n",
    "run_in = 'colab'\n",
    "\n",
    "if run_in == 'local':\n",
    "    import csv\n",
    "    import os\n",
    "    import pandas as pd\n",
    "    import numpy as np\n",
    "    import tweepy\n",
    "    import datetime\n",
    "    import time\n",
    "    import pprint\n",
    "    pp = pprint.PrettyPrinter(indent=4)\n",
    "    import json\n",
    "    \n",
    "if run_in == 'colab':\n",
    "    !pip install xlrd\n",
    "    !pip install XlsxWriter\n",
    "    !pip install tweepy\n",
    "    import csv\n",
    "    import os\n",
    "    import pandas as pd\n",
    "    import numpy as np\n",
    "    import tweepy\n",
    "    import datetime\n",
    "    import time\n",
    "    import pprint\n",
    "    pp = pprint.PrettyPrinter(indent=4)\n",
    "    import json"
   ]
  },
  {
   "cell_type": "markdown",
   "metadata": {
    "colab_type": "text",
    "id": "HjlQ7kzWHG3b"
   },
   "source": [
    "## <p><font color=\"red\">Define Version number!</font></p>"
   ]
  },
  {
   "cell_type": "markdown",
   "metadata": {
    "colab_type": "text",
    "id": "Jue9bx_SWycg"
   },
   "source": [
    "# 2. Define your personal path to the folder we will work in\n",
    "\n",
    "We expect an xlsx file with multiple sheets"
   ]
  },
  {
   "cell_type": "code",
   "execution_count": null,
   "metadata": {
    "colab": {
     "base_uri": "https://localhost:8080/",
     "height": 68
    },
    "colab_type": "code",
    "executionInfo": {
     "elapsed": 10133,
     "status": "ok",
     "timestamp": 1581685137197,
     "user": {
      "displayName": "DISPLAYNAME",
      "photoUrl": "PHOTOURL",
      "userId": "USERID"
     },
     "user_tz": 0
    },
    "id": "8JJCbPSYWkWk",
    "outputId": "377e2cb0-e839-4924-84e8-1aa6d36c7f55"
   },
   "outputs": [],
   "source": [
    "if run_in == 'local':\n",
    "  base_path = \"/users/USERNAME/Google Drive/USERNAME/\"\n",
    "if run_in == 'colab':\n",
    "  base_path = \"/content/drive/My Drive/USERNAME/\"\n",
    "  from google.colab import drive\n",
    "  drive.mount('/content/drive')\n",
    "  \n",
    "print('base_path set to:')\n",
    "print(base_path)"
   ]
  },
  {
   "cell_type": "code",
   "execution_count": null,
   "metadata": {
    "colab": {},
    "colab_type": "code",
    "id": "smyPA3uPrT_-"
   },
   "outputs": [],
   "source": [
    "def Average(lst): \n",
    "  avg = sum(lst) / len(lst)\n",
    "  return avg \n",
    "\n",
    "def delta_survey(df):\n",
    "  delta_survey_period_list = []\n",
    "  for i in range(len(df)):\n",
    "    company_data = df.loc[i].values\n",
    "    #print(\"company_data\", company_data)\n",
    "    company_data_cleaned = [x for x in company_data if str(x) != 'nan']\n",
    "    #print('company_data_cleaned', company_data_cleaned)\n",
    "    try:\n",
    "      first_data_point = company_data_cleaned[0]\n",
    "      last_data_point = company_data_cleaned[-1]\n",
    "      #print(\"first_data_point:\", first_data_point)\n",
    "      #print(\"last_data_point:\", last_data_point)\n",
    "      delta_survey_period = last_data_point - first_data_point\n",
    "      #print(\"last_data_point - first_data_point =\", delta_survey_period)\n",
    "      delta_survey_period_list.append(delta_survey_period)\n",
    "    except:\n",
    "      delta_survey_period = 0\n",
    "      delta_survey_period_list.append(delta_survey_period)\n",
    "  return delta_survey_period_list\n",
    "\n",
    "def rel_diff_survey(df):\n",
    "  rel_differences_survey_period_list = []\n",
    "  for i in range(len(df)):\n",
    "    company_data = df.loc[i].values\n",
    "    #print(\"company_data\", company_data)\n",
    "    company_data_cleaned = [x for x in company_data if str(x) != 'nan']\n",
    "    #print('company_data_cleaned', company_data_cleaned)\n",
    "    try:\n",
    "      first_data_point = company_data_cleaned[0]\n",
    "      last_data_point = company_data_cleaned[-1]\n",
    "      # print(\"first_data_point:\", first_data_point)\n",
    "      # print(\"last_data_point:\", last_data_point)\n",
    "      delta_survey_period = last_data_point - first_data_point\n",
    "      # print(\"last_data_point - first_data_point =\", delta_survey_period)\n",
    "      rel_difference_survey_period = delta_survey_period / Average(company_data_cleaned)\n",
    "      # print(\"rel_difference_survey_period\", rel_difference_survey_period)\n",
    "      rel_differences_survey_period_list.append(rel_difference_survey_period)\n",
    "    except:\n",
    "      rel_difference_survey_period = 0\n",
    "      rel_differences_survey_period_list.append(rel_difference_survey_period)\n",
    "  return rel_differences_survey_period_list"
   ]
  },
  {
   "cell_type": "code",
   "execution_count": null,
   "metadata": {
    "colab": {},
    "colab_type": "code",
    "id": "dfCMWmBB2qbF"
   },
   "outputs": [],
   "source": [
    "version_id = \"V14\""
   ]
  },
  {
   "cell_type": "markdown",
   "metadata": {
    "colab_type": "text",
    "id": "_UiSCnHMzxTO"
   },
   "source": [
    "# Import all current companies"
   ]
  },
  {
   "cell_type": "code",
   "execution_count": null,
   "metadata": {
    "colab": {
     "base_uri": "https://localhost:8080/",
     "height": 54
    },
    "colab_type": "code",
    "executionInfo": {
     "elapsed": 10109,
     "status": "ok",
     "timestamp": 1581685137199,
     "user": {
      "displayName": "DISPLAYNAME",
      "photoUrl": "PHOTOURL",
      "userId": "USERID"
     },
     "user_tz": 0
    },
    "id": "v3PQkzzPzz40",
    "outputId": "e79c74eb-9870-4158-dafa-1580b94454db"
   },
   "outputs": [],
   "source": [
    "all_startup_file = os.path.join(base_path + \"Pitchbook_Crunchbase_Tracxn_Raw/Don't touch V14/V14.xlsx\")\n",
    "print(\"all_startup_file_path is: \" + all_startup_file + \" and the file exists: \" + str(os.path.isfile(all_startup_file)))            "
   ]
  },
  {
   "cell_type": "code",
   "execution_count": null,
   "metadata": {
    "colab": {
     "base_uri": "https://localhost:8080/",
     "height": 224
    },
    "colab_type": "code",
    "executionInfo": {
     "elapsed": 11530,
     "status": "ok",
     "timestamp": 1581685138626,
     "user": {
      "displayName": "DISPLAYNAME",
      "photoUrl": "PHOTOURL",
      "userId": "USERID"
     },
     "user_tz": 0
    },
    "id": "5wc8-pUaz7a_",
    "outputId": "70dd2ccd-444a-4dc3-f84e-1f08f96ead8b"
   },
   "outputs": [],
   "source": [
    "company_name_df = pd.read_excel(all_startup_file, 'V14df_all', usecols = \"A\", skiprows=0).drop_duplicates().reset_index(drop=True)\n",
    "company_name_df.head()"
   ]
  },
  {
   "cell_type": "markdown",
   "metadata": {
    "colab_type": "text",
    "id": "EtDZGyHseWJn"
   },
   "source": [
    "#3. Import latest company version"
   ]
  },
  {
   "cell_type": "code",
   "execution_count": null,
   "metadata": {
    "colab": {
     "base_uri": "https://localhost:8080/",
     "height": 224
    },
    "colab_type": "code",
    "executionInfo": {
     "elapsed": 11524,
     "status": "ok",
     "timestamp": 1581685138627,
     "user": {
      "displayName": "DISPLAYNAME",
      "photoUrl": "PHOTOURL",
      "userId": "USERID"
     },
     "user_tz": 0
    },
    "id": "bmrDzKiRmN9v",
    "outputId": "0a552b32-a77d-4f1b-82be-54c6e0bfb6db"
   },
   "outputs": [],
   "source": [
    "df_company_founding_dates = pd.read_excel(base_path + \"Analysis/Company Founding Dates.xlsx\", \"Founding Dates\", skiprows=0)\n",
    "df_company_founding_dates = df_company_founding_dates[df_company_founding_dates.founded_date.notnull()]\n",
    "df_company_founding_dates = df_company_founding_dates[[\"company_name\",\"founded_date\"]]\n",
    "df_company_founding_dates.sort_values(by=['company_name', 'founded_date'], inplace = True)\n",
    "df_company_founding_dates.drop_duplicates(subset=\"company_name\", keep='first', inplace=True)\n",
    "df_company_founding_dates.reset_index(drop=True, inplace = True)\n",
    "df_company_founding_dates.head()"
   ]
  },
  {
   "cell_type": "code",
   "execution_count": null,
   "metadata": {
    "colab": {
     "base_uri": "https://localhost:8080/",
     "height": 306
    },
    "colab_type": "code",
    "executionInfo": {
     "elapsed": 11666,
     "status": "ok",
     "timestamp": 1581685138775,
     "user": {
      "displayName": "DISPLAYNAME",
      "photoUrl": "PHOTOURL",
      "userId": "USERID"
     },
     "user_tz": 0
    },
    "id": "qzlgBTH_Qi3R",
    "outputId": "628e8b33-8dcb-4ae0-f414-355f35ccc155"
   },
   "outputs": [],
   "source": [
    "df_company_founding_dates.describe()"
   ]
  },
  {
   "cell_type": "code",
   "execution_count": null,
   "metadata": {
    "colab": {
     "base_uri": "https://localhost:8080/",
     "height": 224
    },
    "colab_type": "code",
    "executionInfo": {
     "elapsed": 11661,
     "status": "ok",
     "timestamp": 1581685138776,
     "user": {
      "displayName": "DISPLAYNAME",
      "photoUrl": "PHOTOURL",
      "userId": "USERID"
     },
     "user_tz": 0
    },
    "id": "zzLsKqSmcbsT",
    "outputId": "df0b5d9a-2fe0-4961-9fe6-fb4314bef77d"
   },
   "outputs": [],
   "source": [
    "#df_company_founding_dates_no_nat = df_company_founding_dates.loc[df_company_founding_dates['founded_date'] != np.datetime64('NaT')]\n",
    "#df_company_founding_dates_no_nat = df_company_founding_dates.loc[df_company_founding_dates['founded_date'] != str(\"NaT\")]\n",
    "df_company_founding_dates_no_nat = df_company_founding_dates[df_company_founding_dates.founded_date.notnull()]\n",
    "df_company_founding_dates_no_nat.head()"
   ]
  },
  {
   "cell_type": "markdown",
   "metadata": {
    "colab_type": "text",
    "id": "7A--G3HjmUSt"
   },
   "source": [
    "# Crate timedelta"
   ]
  },
  {
   "cell_type": "code",
   "execution_count": null,
   "metadata": {
    "colab": {
     "base_uri": "https://localhost:8080/",
     "height": 389
    },
    "colab_type": "code",
    "executionInfo": {
     "elapsed": 12103,
     "status": "ok",
     "timestamp": 1581685139232,
     "user": {
      "displayName": "DISPLAYNAME",
      "photoUrl": "PHOTOURL",
      "userId": "USERID"
     },
     "user_tz": 0
    },
    "id": "yv7gE6cH06-w",
    "outputId": "20a84643-85fa-4dd0-a6b8-5555d7f2f306"
   },
   "outputs": [],
   "source": [
    "df_funding_rounds = pd.read_excel(base_path + \"Analysis/companies_rounds.xlsx\")\n",
    "df_funding_rounds.head()"
   ]
  },
  {
   "cell_type": "code",
   "execution_count": null,
   "metadata": {
    "colab": {
     "base_uri": "https://localhost:8080/",
     "height": 204
    },
    "colab_type": "code",
    "executionInfo": {
     "elapsed": 12082,
     "status": "ok",
     "timestamp": 1581685139232,
     "user": {
      "displayName": "DISPLAYNAME",
      "photoUrl": "PHOTOURL",
      "userId": "USERID"
     },
     "user_tz": 0
    },
    "id": "nfKeYn6vnahx",
    "outputId": "3f4a4d9d-dce1-4ef0-8bb7-d83a58b01797"
   },
   "outputs": [],
   "source": [
    "df_company_founding_dates.head()"
   ]
  },
  {
   "cell_type": "code",
   "execution_count": null,
   "metadata": {
    "colab": {
     "base_uri": "https://localhost:8080/",
     "height": 304
    },
    "colab_type": "code",
    "executionInfo": {
     "elapsed": 12251,
     "status": "ok",
     "timestamp": 1581685139423,
     "user": {
      "displayName": "DISPLAYNAME",
      "photoUrl": "PHOTOURL",
      "userId": "USERID"
     },
     "user_tz": 0
    },
    "id": "3qc2wyJUHvrA",
    "outputId": "0e1fcd88-3347-492d-aa42-da93bace5f3b"
   },
   "outputs": [],
   "source": [
    "df_funding_rounds_and_founding_date = df_company_founding_dates.merge(df_funding_rounds, on='company_name', how='left')\n",
    "df_funding_rounds_and_founding_date.head()"
   ]
  },
  {
   "cell_type": "code",
   "execution_count": null,
   "metadata": {
    "colab": {
     "base_uri": "https://localhost:8080/",
     "height": 180
    },
    "colab_type": "code",
    "executionInfo": {
     "elapsed": 12383,
     "status": "ok",
     "timestamp": 1581685139578,
     "user": {
      "displayName": "DISPLAYNAME",
      "photoUrl": "PHOTOURL",
      "userId": "USERID"
     },
     "user_tz": 0
    },
    "id": "XJyukDuwUDRA",
    "outputId": "d5a043ef-a842-4439-e863-557c23943ec2"
   },
   "outputs": [],
   "source": [
    "#Search for entry\n",
    "df_funding_rounds_and_founding_date_search = df_funding_rounds_and_founding_date.loc[df_funding_rounds_and_founding_date['company_name'] == \"vizibl\"]\n",
    "df_funding_rounds_and_founding_date_search"
   ]
  },
  {
   "cell_type": "code",
   "execution_count": null,
   "metadata": {
    "colab": {
     "base_uri": "https://localhost:8080/",
     "height": 204
    },
    "colab_type": "code",
    "executionInfo": {
     "elapsed": 12364,
     "status": "ok",
     "timestamp": 1581685139579,
     "user": {
      "displayName": "DISPLAYNAME",
      "photoUrl": "PHOTOURL",
      "userId": "USERID"
     },
     "user_tz": 0
    },
    "id": "LIgdzCx2qxHu",
    "outputId": "f3ed80c5-6f96-412f-a21a-ad800514cfcb"
   },
   "outputs": [],
   "source": [
    "headers_date = [h for h in list(df_funding_rounds_and_founding_date) if \"date\" in h and \"total_raised_to_date\" not in h]\n",
    "df_round_dates = df_funding_rounds_and_founding_date[headers_date]\n",
    "df_round_dates.head()"
   ]
  },
  {
   "cell_type": "code",
   "execution_count": null,
   "metadata": {
    "colab": {
     "base_uri": "https://localhost:8080/",
     "height": 204
    },
    "colab_type": "code",
    "executionInfo": {
     "elapsed": 12527,
     "status": "ok",
     "timestamp": 1581685139763,
     "user": {
      "displayName": "DISPLAYNAME",
      "photoUrl": "PHOTOURL",
      "userId": "USERID"
     },
     "user_tz": 0
    },
    "id": "Y8sgABoker65",
    "outputId": "a84b5700-6661-4772-cb5a-7107812e018d"
   },
   "outputs": [],
   "source": [
    "df_difference_between_dates = pd.DataFrame()\n",
    "df_difference_between_dates['dt_1'] = df_funding_rounds_and_founding_date['deal_date_0'].sub(df_funding_rounds_and_founding_date['founded_date'], axis=0)\n",
    "df_difference_between_dates['dt_2'] = df_funding_rounds_and_founding_date['deal_date_1'].sub(df_funding_rounds_and_founding_date['deal_date_0'], axis=0)\n",
    "df_difference_between_dates['dt_3'] = df_funding_rounds_and_founding_date['deal_date_2'].sub(df_funding_rounds_and_founding_date['deal_date_1'], axis=0)\n",
    "df_difference_between_dates['dt_4'] = df_funding_rounds_and_founding_date['deal_date_3'].sub(df_funding_rounds_and_founding_date['deal_date_2'], axis=0)\n",
    "df_difference_between_dates['dt_5'] = df_funding_rounds_and_founding_date['deal_date_4'].sub(df_funding_rounds_and_founding_date['deal_date_3'], axis=0)\n",
    "df_difference_between_dates['dt_6'] = df_funding_rounds_and_founding_date['deal_date_5'].sub(df_funding_rounds_and_founding_date['deal_date_4'], axis=0)\n",
    "df_difference_between_dates['dt_7'] = df_funding_rounds_and_founding_date['deal_date_6'].sub(df_funding_rounds_and_founding_date['deal_date_5'], axis=0)\n",
    "df_difference_between_dates['dt_8'] = df_funding_rounds_and_founding_date['deal_date_7'].sub(df_funding_rounds_and_founding_date['deal_date_6'], axis=0)\n",
    "df_difference_between_dates['dt_9'] = df_funding_rounds_and_founding_date['deal_date_8'].sub(df_funding_rounds_and_founding_date['deal_date_7'], axis=0)\n",
    "df_difference_between_dates['dt_10'] = df_funding_rounds_and_founding_date['deal_date_9'].sub(df_funding_rounds_and_founding_date['deal_date_8'], axis=0)\n",
    "df_difference_between_dates['dt_11'] = df_funding_rounds_and_founding_date['deal_date_10'].sub(df_funding_rounds_and_founding_date['deal_date_9'], axis=0)\n",
    "df_difference_between_dates['dt_12'] = df_funding_rounds_and_founding_date['deal_date_11'].sub(df_funding_rounds_and_founding_date['deal_date_10'], axis=0)\n",
    "\n",
    "dt_headers = list(df_difference_between_dates)\n",
    "df_difference_between_dates[\"dt_avg\"] = df_difference_between_dates[dt_headers[:]].mean(axis = 1)\n",
    "\n",
    "#df_difference_between_dates.sort_values('dt1',inplace = True)\n",
    "df_difference_between_dates.head()"
   ]
  },
  {
   "cell_type": "code",
   "execution_count": null,
   "metadata": {
    "colab": {
     "base_uri": "https://localhost:8080/",
     "height": 338
    },
    "colab_type": "code",
    "executionInfo": {
     "elapsed": 12689,
     "status": "ok",
     "timestamp": 1581685139947,
     "user": {
      "displayName": "DISPLAYNAME",
      "photoUrl": "PHOTOURL",
      "userId": "USERID"
     },
     "user_tz": 0
    },
    "id": "oJ-BnCzJ1YMQ",
    "outputId": "e969fa97-8b5c-4298-985c-2810161e2b87"
   },
   "outputs": [],
   "source": [
    "df_funding_rounds_and_deltas = pd.concat([df_funding_rounds_and_founding_date, df_difference_between_dates], axis=1, sort=False)\n",
    "df_funding_rounds_and_deltas.head()"
   ]
  },
  {
   "cell_type": "code",
   "execution_count": null,
   "metadata": {
    "colab": {},
    "colab_type": "code",
    "id": "5DMV5_we1COz"
   },
   "outputs": [],
   "source": [
    "# Adjust dollar values to million\n",
    "\n",
    "df_funding_rounds_and_deltas['total_raised_to_date'] = df_funding_rounds_and_deltas['total_raised_to_date']*1e6\n",
    "\n",
    "df_funding_rounds_and_deltas['num_deal_size_0'] = df_funding_rounds_and_deltas['num_deal_size_0']*1e6\n",
    "df_funding_rounds_and_deltas['num_deal_size_1'] = df_funding_rounds_and_deltas['num_deal_size_1']*1e6\n",
    "df_funding_rounds_and_deltas['num_deal_size_2'] = df_funding_rounds_and_deltas['num_deal_size_2']*1e6\n",
    "df_funding_rounds_and_deltas['num_deal_size_3'] = df_funding_rounds_and_deltas['num_deal_size_3']*1e6\n",
    "df_funding_rounds_and_deltas['num_deal_size_4'] = df_funding_rounds_and_deltas['num_deal_size_4']*1e6\n",
    "df_funding_rounds_and_deltas['num_deal_size_5'] = df_funding_rounds_and_deltas['num_deal_size_5']*1e6\n",
    "df_funding_rounds_and_deltas['num_deal_size_6'] = df_funding_rounds_and_deltas['num_deal_size_6']*1e6\n",
    "df_funding_rounds_and_deltas['num_deal_size_7'] = df_funding_rounds_and_deltas['num_deal_size_7']*1e6\n",
    "df_funding_rounds_and_deltas['num_deal_size_8'] = df_funding_rounds_and_deltas['num_deal_size_8']*1e6\n",
    "df_funding_rounds_and_deltas['num_deal_size_9'] = df_funding_rounds_and_deltas['num_deal_size_9']*1e6\n",
    "df_funding_rounds_and_deltas['num_deal_size_10'] = df_funding_rounds_and_deltas['num_deal_size_10']*1e6\n",
    "df_funding_rounds_and_deltas['num_deal_size_11'] = df_funding_rounds_and_deltas['num_deal_size_11']*1e6\n",
    "\n",
    "df_funding_rounds_and_deltas['max_post_money_valuation'] = df_funding_rounds_and_deltas['max_post_money_valuation']*1e6\n",
    "df_funding_rounds_and_deltas['num_pre_money_valuation_0'] = df_funding_rounds_and_deltas['num_pre_money_valuation_0']*1e6\n",
    "df_funding_rounds_and_deltas['num_pre_money_valuation_1'] = df_funding_rounds_and_deltas['num_pre_money_valuation_1']*1e6\n",
    "df_funding_rounds_and_deltas['num_pre_money_valuation_2'] = df_funding_rounds_and_deltas['num_pre_money_valuation_2']*1e6\n",
    "df_funding_rounds_and_deltas['num_pre_money_valuation_3'] = df_funding_rounds_and_deltas['num_pre_money_valuation_3']*1e6\n",
    "df_funding_rounds_and_deltas['num_pre_money_valuation_4'] = df_funding_rounds_and_deltas['num_pre_money_valuation_4']*1e6\n",
    "df_funding_rounds_and_deltas['num_pre_money_valuation_5'] = df_funding_rounds_and_deltas['num_pre_money_valuation_5']*1e6\n",
    "df_funding_rounds_and_deltas['num_pre_money_valuation_6'] = df_funding_rounds_and_deltas['num_pre_money_valuation_6']*1e6\n",
    "df_funding_rounds_and_deltas['num_pre_money_valuation_7'] = df_funding_rounds_and_deltas['num_pre_money_valuation_7']*1e6\n",
    "df_funding_rounds_and_deltas['num_pre_money_valuation_8'] = df_funding_rounds_and_deltas['num_pre_money_valuation_8']*1e6\n",
    "df_funding_rounds_and_deltas['num_pre_money_valuation_9'] = df_funding_rounds_and_deltas['num_pre_money_valuation_9']*1e6\n",
    "df_funding_rounds_and_deltas['num_pre_money_valuation_10'] = df_funding_rounds_and_deltas['num_pre_money_valuation_10']*1e6\n",
    "df_funding_rounds_and_deltas['num_pre_money_valuation_11'] = df_funding_rounds_and_deltas['num_pre_money_valuation_11']*1e6\n",
    "\n",
    "df_funding_rounds_and_deltas['num_post_money_valuation_0'] = df_funding_rounds_and_deltas['num_post_money_valuation_0']*1e6\n",
    "df_funding_rounds_and_deltas['num_post_money_valuation_1'] = df_funding_rounds_and_deltas['num_post_money_valuation_1']*1e6\n",
    "df_funding_rounds_and_deltas['num_post_money_valuation_2'] = df_funding_rounds_and_deltas['num_post_money_valuation_2']*1e6\n",
    "df_funding_rounds_and_deltas['num_post_money_valuation_3'] = df_funding_rounds_and_deltas['num_post_money_valuation_3']*1e6\n",
    "df_funding_rounds_and_deltas['num_post_money_valuation_4'] = df_funding_rounds_and_deltas['num_post_money_valuation_4']*1e6\n",
    "df_funding_rounds_and_deltas['num_post_money_valuation_5'] = df_funding_rounds_and_deltas['num_post_money_valuation_5']*1e6\n",
    "df_funding_rounds_and_deltas['num_post_money_valuation_6'] = df_funding_rounds_and_deltas['num_post_money_valuation_6']*1e6\n",
    "df_funding_rounds_and_deltas['num_post_money_valuation_7'] = df_funding_rounds_and_deltas['num_post_money_valuation_7']*1e6\n",
    "df_funding_rounds_and_deltas['num_post_money_valuation_8'] = df_funding_rounds_and_deltas['num_post_money_valuation_8']*1e6\n",
    "df_funding_rounds_and_deltas['num_post_money_valuation_9'] = df_funding_rounds_and_deltas['num_post_money_valuation_9']*1e6\n",
    "df_funding_rounds_and_deltas['num_post_money_valuation_10'] = df_funding_rounds_and_deltas['num_post_money_valuation_10']*1e6\n",
    "df_funding_rounds_and_deltas['num_post_money_valuation_11'] = df_funding_rounds_and_deltas['num_post_money_valuation_11']*1e6"
   ]
  },
  {
   "cell_type": "markdown",
   "metadata": {
    "colab_type": "text",
    "id": "H9DcP3_N08-5"
   },
   "source": [
    "create log value funding data"
   ]
  },
  {
   "cell_type": "code",
   "execution_count": null,
   "metadata": {
    "colab": {
     "base_uri": "https://localhost:8080/",
     "height": 419
    },
    "colab_type": "code",
    "executionInfo": {
     "elapsed": 12662,
     "status": "ok",
     "timestamp": 1581685139948,
     "user": {
      "displayName": "DISPLAYNAME",
      "photoUrl": "PHOTOURL",
      "userId": "USERID"
     },
     "user_tz": 0
    },
    "id": "M4LwX4TT00rp",
    "outputId": "ba213b5c-f7bd-4821-a432-6f16456c1c37"
   },
   "outputs": [],
   "source": [
    "df_log_total_raised_to_date = df_funding_rounds_and_deltas[[\"company_name\",\"total_raised_to_date\"]].fillna(0)\n",
    "df_log_total_raised_to_date = df_log_total_raised_to_date[(df_log_total_raised_to_date['total_raised_to_date'] != 0)]\n",
    "df_log_total_raised_to_date['log10_total_raised_to_date'] = np.log10(df_log_total_raised_to_date['total_raised_to_date'])\n",
    "df_log_total_raised_to_date.drop(columns=['total_raised_to_date'], inplace = True)\n",
    "\n",
    "df_log_max_post_money_valuation = df_funding_rounds_and_deltas[[\"company_name\",\"max_post_money_valuation\"]].fillna(0)\n",
    "df_log_max_post_money_valuation = df_log_max_post_money_valuation[(df_log_max_post_money_valuation['max_post_money_valuation'] != 0)]\n",
    "df_log_max_post_money_valuation['log10_max_post_money_valuation'] = np.log10(df_log_max_post_money_valuation['max_post_money_valuation'])\n",
    "df_log_max_post_money_valuation.drop(columns=['max_post_money_valuation'], inplace = True)\n",
    "\n",
    "df_log_max_post_money_valuation"
   ]
  },
  {
   "cell_type": "markdown",
   "metadata": {
    "colab_type": "text",
    "id": "DWXDGQwB7DBv"
   },
   "source": [
    "create new_to_followon_investor_ratio"
   ]
  },
  {
   "cell_type": "code",
   "execution_count": null,
   "metadata": {
    "colab": {
     "base_uri": "https://localhost:8080/",
     "height": 34
    },
    "colab_type": "code",
    "executionInfo": {
     "elapsed": 12856,
     "status": "ok",
     "timestamp": 1581685140163,
     "user": {
      "displayName": "DISPLAYNAME",
      "photoUrl": "PHOTOURL",
      "userId": "USERID"
     },
     "user_tz": 0
    },
    "id": "WTbyhybC7CpS",
    "outputId": "843331f0-acc0-4f6b-96b6-61e078f16c4f"
   },
   "outputs": [],
   "source": [
    "df_new_to_followon_investor_ratio = df_funding_rounds_and_deltas[[\"company_name\",\"num_sum_investors\"]].merge(df_funding_rounds_and_deltas[[\"company_name\",\"num_sum_follow_on_investors\"]], on='company_name', how='left')\n",
    "df_new_to_followon_investor_ratio['new_to_followon_investor_ratio'] = df_new_to_followon_investor_ratio['num_sum_investors']/df_new_to_followon_investor_ratio['num_sum_follow_on_investors']\n",
    "df_new_to_followon_investor_ratio = df_new_to_followon_investor_ratio.replace([np.inf, -np.inf], np.nan)\n",
    "df_new_to_followon_investor_ratio.dropna(inplace = True)\n",
    "df_new_to_followon_investor_ratio.drop(columns=['num_sum_investors', 'num_sum_follow_on_investors'], inplace = True)\n",
    "print(df_new_to_followon_investor_ratio.shape)"
   ]
  },
  {
   "cell_type": "markdown",
   "metadata": {
    "colab_type": "text",
    "id": "6POIP5tThbeG"
   },
   "source": [
    "Company Age"
   ]
  },
  {
   "cell_type": "code",
   "execution_count": null,
   "metadata": {
    "colab": {
     "base_uri": "https://localhost:8080/",
     "height": 340
    },
    "colab_type": "code",
    "executionInfo": {
     "elapsed": 12834,
     "status": "ok",
     "timestamp": 1581685140163,
     "user": {
      "displayName": "DISPLAYNAME",
      "photoUrl": "PHOTOURL",
      "userId": "USERID"
     },
     "user_tz": 0
    },
    "id": "8WHE2q5EhdJ_",
    "outputId": "3f27e2e8-31b2-4b34-8a33-4fcf07c737b0"
   },
   "outputs": [],
   "source": [
    "time = datetime.datetime.today()\n",
    "print(time)\n",
    "print(type(time))\n",
    "df_company_age = df_funding_rounds_and_deltas[[\"company_name\",\"founded_date\"]]\n",
    "df_company_age[\"company_age\"] = (time - df_round_dates['founded_date']).dt.days\n",
    "df_company_age.head()"
   ]
  },
  {
   "cell_type": "markdown",
   "metadata": {
    "colab_type": "text",
    "id": "x5xp0sqoinZI"
   },
   "source": [
    "Save deltas and company_age"
   ]
  },
  {
   "cell_type": "code",
   "execution_count": null,
   "metadata": {
    "colab": {
     "base_uri": "https://localhost:8080/",
     "height": 34
    },
    "colab_type": "code",
    "executionInfo": {
     "elapsed": 15748,
     "status": "ok",
     "timestamp": 1581685143098,
     "user": {
      "displayName": "DISPLAYNAME",
      "photoUrl": "PHOTOURL",
      "userId": "USERID"
     },
     "user_tz": 0
    },
    "id": "vJU7_w2s2QaQ",
    "outputId": "33ff48d8-18f3-4e2a-b7c7-3148542ad4e3"
   },
   "outputs": [],
   "source": [
    "with pd.ExcelWriter(base_path + 'Analysis/Round_deltas and company age.xlsx') as writer:\n",
    "    df_difference_between_dates.to_excel(writer, sheet_name= \"Round Deltas\", index=False)\n",
    "    df_funding_rounds_and_deltas.to_excel(writer, sheet_name= \"Round Deltas All Info\", index=False)\n",
    "    df_company_age.to_excel(writer, sheet_name= \"Company Age\", index=False)\n",
    "    \n",
    "print(\"File save to \" + base_path + 'Analysis/Round_deltas.xlsx ' + str(os.path.isfile(base_path + 'Analysis/Round_deltas.xlsx')) + \" File check\")"
   ]
  },
  {
   "cell_type": "markdown",
   "metadata": {
    "colab_type": "text",
    "id": "6WQRkBrP6IWu"
   },
   "source": [
    "# Create Company Names (Independent Variable)\n",
    "Different Names which startups had over time Name1, Name2, etc."
   ]
  },
  {
   "cell_type": "code",
   "execution_count": null,
   "metadata": {
    "colab": {
     "base_uri": "https://localhost:8080/",
     "height": 292
    },
    "colab_type": "code",
    "executionInfo": {
     "elapsed": 15733,
     "status": "ok",
     "timestamp": 1581685143098,
     "user": {
      "displayName": "DISPLAYNAME",
      "photoUrl": "PHOTOURL",
      "userId": "USERID"
     },
     "user_tz": 0
    },
    "id": "TcnZni5H6GOz",
    "outputId": "19775dd4-19e0-40f6-b82b-28460a9b8d07"
   },
   "outputs": [],
   "source": [
    "df_company_names_in_versions = pd.read_excel(base_path + \"Analysis/Company name changes and current.xlsx\", skiprows=0)\n",
    "df_company_names_in_versions.drop(['twitter_id'], axis=1, inplace = True)\n",
    "df_company_names_in_versions = df_company_names_in_versions.rename(index=str, columns={\"current_name\" : \"company_name\"})\n",
    "df_company_names_in_versions.head()"
   ]
  },
  {
   "cell_type": "code",
   "execution_count": null,
   "metadata": {
    "colab": {},
    "colab_type": "code",
    "id": "bqcPVOBnjof3"
   },
   "outputs": [],
   "source": [
    "#df_company_names_in_versions[\"company_name\"].value_counts()"
   ]
  },
  {
   "cell_type": "markdown",
   "metadata": {
    "colab_type": "text",
    "id": "DJHMQe8xYrY-"
   },
   "source": [
    "# Create Company Twitter ID (Independent Variable)\n",
    "Different Twitter Handles which startups had over time twitter_id_0, twitter_id_1, etc.\n",
    "\n",
    "This can be merged on the twitter_id column with df_company_names_in_versions"
   ]
  },
  {
   "cell_type": "code",
   "execution_count": null,
   "metadata": {
    "colab": {
     "base_uri": "https://localhost:8080/",
     "height": 224
    },
    "colab_type": "code",
    "executionInfo": {
     "elapsed": 16586,
     "status": "ok",
     "timestamp": 1581685143964,
     "user": {
      "displayName": "DISPLAYNAME",
      "photoUrl": "PHOTOURL",
      "userId": "USERID"
     },
     "user_tz": 0
    },
    "id": "wvXb5PrxYq0P",
    "outputId": "292cb12e-3591-4500-ae68-ee2d1eb57b35"
   },
   "outputs": [],
   "source": [
    "df_twitter_ids_in_versions = pd.read_excel(base_path + \"Analysis/Twitter_id represented in Versions.xlsx\",\"df_twitter_id_VX\", skiprows=0)\n",
    "df_twitter_ids_in_versions[\"has_twitter\"] = True\n",
    "df_twitter_ids_in_versions.head()"
   ]
  },
  {
   "cell_type": "code",
   "execution_count": null,
   "metadata": {
    "colab": {},
    "colab_type": "code",
    "id": "uus-hDZzkBng"
   },
   "outputs": [],
   "source": [
    "#df_twitter_ids_in_versions.loc[df_twitter_ids_in_versions['company_name'] == \"sweetspot\"]\n",
    "#df_twitter_ids_in_versions[\"company_name\"].value_counts()"
   ]
  },
  {
   "cell_type": "markdown",
   "metadata": {
    "colab_type": "text",
    "id": "6x_Qe2ejflqU"
   },
   "source": [
    "# Create Company Twitter Handles (Independent Variable)\n",
    "Different Twitter Handles which startups had over time twitter_handle_0, twitter_handle_1, etc.\n",
    "\n",
    "This can be merged on the twitter_id column with df_company_names_in_versions"
   ]
  },
  {
   "cell_type": "code",
   "execution_count": null,
   "metadata": {
    "colab": {
     "base_uri": "https://localhost:8080/",
     "height": 224
    },
    "colab_type": "code",
    "executionInfo": {
     "elapsed": 16574,
     "status": "ok",
     "timestamp": 1581685143965,
     "user": {
      "displayName": "DISPLAYNAME",
      "photoUrl": "PHOTOURL",
      "userId": "USERID"
     },
     "user_tz": 0
    },
    "id": "sODy_D3dfv7U",
    "outputId": "ce9ecbc5-c05d-4a5a-eef0-44b398255e7e"
   },
   "outputs": [],
   "source": [
    "df_twitter_handles_in_versions = pd.read_excel(base_path + \"Analysis/Twitter handle changes and current.xlsx\", skiprows=0)\n",
    "df_twitter_handles_in_versions = df_twitter_handles_in_versions[[\"twitter_id\",\"current_twitter_handle\",\"twitter_handle_0\",\"twitter_handle_1\"]]\n",
    "df_twitter_handles_in_versions = df_twitter_handles_in_versions.rename(index=str, columns={\"twitter_id\" : \"current_twitter_id\"})\n",
    "df_twitter_handles_in_versions.head()"
   ]
  },
  {
   "cell_type": "code",
   "execution_count": null,
   "metadata": {
    "colab": {},
    "colab_type": "code",
    "id": "cG63mZPipNZE"
   },
   "outputs": [],
   "source": [
    "#df_twitter_ids_in_versions.loc[df_twitter_ids_in_versions['company_name'] == \"sweetspot\"]\n",
    "#df_twitter_ids_in_versions[\"company_name\"].value_counts()"
   ]
  },
  {
   "cell_type": "markdown",
   "metadata": {
    "colab_type": "text",
    "id": "Cd-vipaz6NtS"
   },
   "source": [
    "# Create Startup Websites (Independent Variable)"
   ]
  },
  {
   "cell_type": "code",
   "execution_count": null,
   "metadata": {
    "colab": {
     "base_uri": "https://localhost:8080/",
     "height": 224
    },
    "colab_type": "code",
    "executionInfo": {
     "elapsed": 17156,
     "status": "ok",
     "timestamp": 1581685144561,
     "user": {
      "displayName": "DISPLAYNAME",
      "photoUrl": "PHOTOURL",
      "userId": "USERID"
     },
     "user_tz": 0
    },
    "id": "uNsLRYtO6NtX",
    "outputId": "6abffcc4-5e66-4a1e-af75-34e35daf2e20"
   },
   "outputs": [],
   "source": [
    "df_company_websites = pd.read_excel(base_path + \"Pitchbook_Crunchbase_Tracxn_Raw/Don't touch \" + version_id + \"/\" + version_id + \".xlsx\", version_id + \"website_url_scrape\", skiprows=0)\n",
    "df_company_websites_no_duplicates_no_nan = df_company_websites[df_company_websites.website_url.notnull()].drop_duplicates()\n",
    "df_company_websites_no_duplicates_no_nan[\"has_website\"] = True\n",
    "df_company_websites_no_duplicates_no_nan.head()"
   ]
  },
  {
   "cell_type": "code",
   "execution_count": null,
   "metadata": {
    "colab": {
     "base_uri": "https://localhost:8080/",
     "height": 131
    },
    "colab_type": "code",
    "executionInfo": {
     "elapsed": 17149,
     "status": "ok",
     "timestamp": 1581685144561,
     "user": {
      "displayName": "DISPLAYNAME",
      "photoUrl": "PHOTOURL",
      "userId": "USERID"
     },
     "user_tz": 0
    },
    "id": "fE-uOiKmjhvg",
    "outputId": "d1823b99-c499-437a-f347-b1c9f2a4986a"
   },
   "outputs": [],
   "source": [
    "#show duplicate startups with different websites\n",
    "#should be empty!\n",
    "df_company_duplicates = df_company_websites[\"company_name\"]\n",
    "df_company_duplicates = df_company_websites[df_company_duplicates.isin(df_company_duplicates[df_company_duplicates.duplicated()])].sort_values(\"company_name\")\n",
    "df_company_duplicates.head()"
   ]
  },
  {
   "cell_type": "code",
   "execution_count": null,
   "metadata": {
    "colab": {
     "base_uri": "https://localhost:8080/",
     "height": 85
    },
    "colab_type": "code",
    "executionInfo": {
     "elapsed": 17143,
     "status": "ok",
     "timestamp": 1581685144562,
     "user": {
      "displayName": "DISPLAYNAME",
      "photoUrl": "PHOTOURL",
      "userId": "USERID"
     },
     "user_tz": 0
    },
    "id": "4-yeDKaJYW05",
    "outputId": "9cb1e9d5-4b88-4eae-efa2-d2158e1b6996"
   },
   "outputs": [],
   "source": [
    "accessible_websites = [] # to be merged with df_company_websites\n",
    "scraped_websites_folder = os.path.join(base_path + \"/outputs/Scraped Websites\")\n",
    "\n",
    "for root, dirs, files in os.walk(scraped_websites_folder):\n",
    "    print(root, dirs, files)\n",
    "    for file in files:\n",
    "        if file.endswith(\".json\"):\n",
    "            #print(os.path.splitext(file)[0])\n",
    "            accessible_websites.append(os.path.splitext(file)[0])\n",
    "            \n",
    "print(accessible_websites)\n",
    "\n",
    "df_accessible_websites = pd.DataFrame()\n",
    "df_accessible_websites[\"company_name\"] = accessible_websites\n",
    "df_accessible_websites[\"has_accessable_website\"] = True\n",
    "df_accessible_websites.head()"
   ]
  },
  {
   "cell_type": "code",
   "execution_count": null,
   "metadata": {
    "colab": {
     "base_uri": "https://localhost:8080/",
     "height": 224
    },
    "colab_type": "code",
    "executionInfo": {
     "elapsed": 17137,
     "status": "ok",
     "timestamp": 1581685144562,
     "user": {
      "displayName": "DISPLAYNAME",
      "photoUrl": "PHOTOURL",
      "userId": "USERID"
     },
     "user_tz": 0
    },
    "id": "-Dy76epQa-lx",
    "outputId": "71bfed97-c9d6-448a-8123-46b55c088d1a"
   },
   "outputs": [],
   "source": [
    "df_company_websites_and_accessability = df_company_websites.merge(df_accessible_websites, on='company_name', how='left')\n",
    "df_company_websites_and_accessability.head()"
   ]
  },
  {
   "cell_type": "code",
   "execution_count": null,
   "metadata": {
    "colab": {},
    "colab_type": "code",
    "id": "13BA6TBYMCaN"
   },
   "outputs": [],
   "source": [
    "# Remember to fill companies which don't have a website with nan based on whether a website is reachable. get this info from the folder where all websites are stored."
   ]
  },
  {
   "cell_type": "markdown",
   "metadata": {
    "colab_type": "text",
    "id": "9XUVziFRtuZU"
   },
   "source": [
    "# Create Tweet Count, Tweet Frequency and Twitter Account Age (Independent Variable)"
   ]
  },
  {
   "cell_type": "code",
   "execution_count": null,
   "metadata": {
    "colab": {
     "base_uri": "https://localhost:8080/",
     "height": 204
    },
    "colab_type": "code",
    "executionInfo": {
     "elapsed": 17119,
     "status": "ok",
     "timestamp": 1581685144563,
     "user": {
      "displayName": "DISPLAYNAME",
      "photoUrl": "PHOTOURL",
      "userId": "USERID"
     },
     "user_tz": 0
    },
    "id": "N85jwwHDtsyN",
    "outputId": "be21049f-6b92-499f-c51d-5b3814f2e2b7"
   },
   "outputs": [],
   "source": [
    "df_company_tweet_stats = pd.read_csv(filepath_or_buffer = \"/content/drive/My Drive/USERNAME/Analysis/Company tweet stats.csv\")\n",
    "df_company_tweet_stats.head()"
   ]
  },
  {
   "cell_type": "markdown",
   "metadata": {
    "colab_type": "text",
    "id": "yBY4MyW7bNPy"
   },
   "source": [
    "# Create Network Relevance Dataframes (Independent Variable)"
   ]
  },
  {
   "cell_type": "code",
   "execution_count": null,
   "metadata": {
    "colab": {
     "base_uri": "https://localhost:8080/",
     "height": 224
    },
    "colab_type": "code",
    "executionInfo": {
     "elapsed": 20025,
     "status": "ok",
     "timestamp": 1581685147490,
     "user": {
      "displayName": "DISPLAYNAME",
      "photoUrl": "PHOTOURL",
      "userId": "USERID"
     },
     "user_tz": 0
    },
    "id": "pUov3JL1bN6G",
    "outputId": "d4973b9c-bfd8-4d14-80be-f6d9700f7c23"
   },
   "outputs": [],
   "source": [
    "df_followers_sum_all_users = pd.read_excel(base_path + \"Analysis/Network Relevance/Summaries/df_followers_sum_all_users.xlsx\", 'VX', skiprows=0)\n",
    "df_followers_total_matched_words = pd.read_excel(base_path + \"Analysis/Network Relevance/Summaries/df_followers_total_matched_words.xlsx\", 'VX', skiprows=0)\n",
    "\n",
    "df_friends_sum_all_users = pd.read_excel(base_path + \"Analysis/Network Relevance/Summaries/df_friends_sum_all_users.xlsx\", 'VX', skiprows=0)\n",
    "df_friends_total_matched_words = pd.read_excel(base_path + \"Analysis/Network Relevance/Summaries/df_friends_total_matched_words.xlsx\", 'VX', skiprows=0)\n",
    "\n",
    "df_fnf_sum_all_users = pd.read_excel(base_path + \"Analysis/Network Relevance/Summaries/df_fnf_sum_all_users.xlsx\", 'VX', skiprows=0)\n",
    "df_fnf_total_matched_words = pd.read_excel(base_path + \"Analysis/Network Relevance/Summaries/df_fnf_total_matched_words.xlsx\", 'VX', skiprows=0)\n",
    "\n",
    "# RENAME:\n",
    "df_followers_sum_all_users = df_followers_sum_all_users.rename(index=str, columns={\"V1_followers_match_count\":\"followers_match_count_V01\", \"V2_followers_match_count\":\"followers_match_count_V02\", \"V3_followers_match_count\":\"followers_match_count_V03\", \"V4_followers_match_count\":\"followers_match_count_V04\", \"V5_followers_match_count\":\"followers_match_count_V05\", \"V6_followers_match_count\":\"followers_match_count_V06\", \"V7_followers_match_count\":\"followers_match_count_V07\", \"V8_followers_match_count\":\"followers_match_count_V08\", \"V9_followers_match_count\":\"followers_match_count_V09\", \"V10_followers_match_count\":\"followers_match_count_V10\", \"V11_followers_match_count\":\"followers_match_count_V11\", \"V12_followers_match_count\":\"followers_match_count_V12\", \"V13_followers_match_count\":\"followers_match_count_V13\", \"V14_followers_match_count\":\"followers_match_count_V14\"})\n",
    "df_followers_total_matched_words = df_followers_total_matched_words.rename(index=str, columns={\"V1_followers_match_w_count\":\"followers_match_w_count_V01\", \"V2_followers_match_w_count\":\"followers_match_w_count_V02\", \"V3_followers_match_w_count\":\"followers_match_w_count_V03\", \"V4_followers_match_w_count\":\"followers_match_w_count_V04\", \"V5_followers_match_w_count\":\"followers_match_w_count_V05\", \"V6_followers_match_w_count\":\"followers_match_w_count_V06\", \"V7_followers_match_w_count\":\"followers_match_w_count_V07\", \"V8_followers_match_w_count\":\"followers_match_w_count_V08\", \"V9_followers_match_w_count\":\"followers_match_w_count_V09\", \"V10_followers_match_w_count\":\"followers_match_w_count_V10\", \"V11_followers_match_w_count\":\"followers_match_w_count_V11\", \"V12_followers_match_w_count\":\"followers_match_w_count_V12\", \"V13_followers_match_w_count\":\"followers_match_w_count_V13\", \"V14_followers_match_w_count\":\"followers_match_w_count_V14\"})\n",
    "\n",
    "df_friends_sum_all_users = df_friends_sum_all_users.rename(index=str, columns={\"V1_friends_match_count\":\"friends_match_count_V01\", \"V2_friends_match_count\":\"friends_match_count_V02\", \"V3_friends_match_count\":\"friends_match_count_V03\", \"V4_friends_match_count\":\"friends_match_count_V04\", \"V5_friends_match_count\":\"friends_match_count_V05\", \"V6_friends_match_count\":\"friends_match_count_V06\", \"V7_friends_match_count\":\"friends_match_count_V07\", \"V8_friends_match_count\":\"friends_match_count_V08\", \"V9_friends_match_count\":\"friends_match_count_V09\", \"V10_friends_match_count\":\"friends_match_count_V10\", \"V11_friends_match_count\":\"friends_match_count_V11\", \"V12_friends_match_count\":\"friends_match_count_V12\", \"V13_friends_match_count\":\"friends_match_count_V13\", \"V14_friends_match_count\":\"friends_match_count_V14\"})\n",
    "df_friends_total_matched_words = df_friends_total_matched_words.rename(index=str, columns={\"V1_friends_match_w_count\":\"friends_match_w_count_V01\", \"V2_friends_match_w_count\":\"friends_match_w_count_V02\", \"V3_friends_match_w_count\":\"friends_match_w_count_V03\", \"V4_friends_match_w_count\":\"friends_match_w_count_V04\", \"V5_friends_match_w_count\":\"friends_match_w_count_V05\", \"V6_friends_match_w_count\":\"friends_match_w_count_V06\", \"V7_friends_match_w_count\":\"friends_match_w_count_V07\", \"V8_friends_match_w_count\":\"friends_match_w_count_V08\", \"V9_friends_match_w_count\":\"friends_match_w_count_V09\", \"V10_friends_match_w_count\":\"friends_match_w_count_V10\", \"V11_friends_match_w_count\":\"friends_match_w_count_V11\", \"V12_friends_match_w_count\":\"friends_match_w_count_V12\", \"V13_friends_match_w_count\":\"friends_match_w_count_V13\", \"V14_friends_match_w_count\":\"friends_match_w_count_V14\"})\n",
    "\n",
    "df_fnf_sum_all_users = df_fnf_sum_all_users.rename(index=str, columns={\"V1_fnf_match_count\":\"unweighted_bi_direct_match_count_V01\", \"V2_fnf_match_count\":\"unweighted_bi_direct_match_count_V02\", \"V3_fnf_match_count\":\"unweighted_bi_direct_match_count_V03\", \"V4_fnf_match_count\":\"unweighted_bi_direct_match_count_V04\", \"V5_fnf_match_count\":\"unweighted_bi_direct_match_count_V05\", \"V6_fnf_match_count\":\"unweighted_bi_direct_match_count_V06\", \"V7_fnf_match_count\":\"unweighted_bi_direct_match_count_V07\", \"V8_fnf_match_count\":\"unweighted_bi_direct_match_count_V08\", \"V9_fnf_match_count\":\"unweighted_bi_direct_match_count_V09\", \"V10_fnf_match_count\":\"unweighted_bi_direct_match_count_V10\", \"V11_fnf_match_count\":\"unweighted_bi_direct_match_count_V11\", \"V12_fnf_match_count\":\"unweighted_bi_direct_match_count_V12\", \"V13_fnf_match_count\":\"unweighted_bi_direct_match_count_V13\", \"V14_fnf_match_count\":\"unweighted_bi_direct_match_count_V14\"})\n",
    "df_fnf_total_matched_words = df_fnf_total_matched_words.rename(index=str, columns={\"V1_fnf_match_w_count\":\"unweighted_bi_direct_match_w_count_V01\", \"V2_fnf_match_w_count\":\"unweighted_bi_direct_match_w_count_V02\", \"V3_fnf_match_w_count\":\"unweighted_bi_direct_match_w_count_V03\", \"V4_fnf_match_w_count\":\"unweighted_bi_direct_match_w_count_V04\", \"V5_fnf_match_w_count\":\"unweighted_bi_direct_match_w_count_V05\", \"V6_fnf_match_w_count\":\"unweighted_bi_direct_match_w_count_V06\", \"V7_fnf_match_w_count\":\"unweighted_bi_direct_match_w_count_V07\", \"V8_fnf_match_w_count\":\"unweighted_bi_direct_match_w_count_V08\", \"V9_fnf_match_w_count\":\"unweighted_bi_direct_match_w_count_V09\", \"V10_fnf_match_w_count\":\"unweighted_bi_direct_match_w_count_V10\", \"V11_fnf_match_w_count\":\"unweighted_bi_direct_match_w_count_V11\", \"V12_fnf_match_w_count\":\"unweighted_bi_direct_match_w_count_V12\", \"V13_fnf_match_w_count\":\"unweighted_bi_direct_match_w_count_V13\", \"V14_fnf_match_w_count\":\"unweighted_bi_direct_match_w_count_V14\"})\n",
    "\n",
    "df_followers_sum_all_users.head()"
   ]
  },
  {
   "cell_type": "markdown",
   "metadata": {
    "colab_type": "text",
    "id": "UxbPQv7qQe5R"
   },
   "source": [
    "Sum all matched users"
   ]
  },
  {
   "cell_type": "code",
   "execution_count": null,
   "metadata": {
    "colab": {
     "base_uri": "https://localhost:8080/",
     "height": 241
    },
    "colab_type": "code",
    "executionInfo": {
     "elapsed": 25853,
     "status": "ok",
     "timestamp": 1581685153338,
     "user": {
      "displayName": "DISPLAYNAME",
      "photoUrl": "PHOTOURL",
      "userId": "USERID"
     },
     "user_tz": 0
    },
    "id": "oO6gavccSupl",
    "outputId": "5cba099f-bde5-4857-e597-3741303c59cd"
   },
   "outputs": [],
   "source": [
    "df_followers_sum_all_users[\"followers_match_count_mean\"] = df_followers_sum_all_users[[h for h in list(df_followers_sum_all_users) if \"V\" in h]].mean(axis=1)\n",
    "df_followers_sum_all_users[\"followers_match_count_var\"] = df_followers_sum_all_users[[h for h in list(df_followers_sum_all_users) if \"V\" in h]].var(axis=1)\n",
    "df_followers_sum_all_users[\"followers_match_count_std\"] = df_followers_sum_all_users[[h for h in list(df_followers_sum_all_users) if \"V\" in h]].std(axis=1)\n",
    "df_followers_sum_all_users_temp = df_followers_sum_all_users[[h for h in list(df_followers_sum_all_users) if \"match_count_V\" in h]]\n",
    "df_followers_sum_all_users_temp.reset_index(drop=True, inplace = True)\n",
    "df_followers_sum_all_users[\"followers_match_count_delta_survey\"] = delta_survey(df_followers_sum_all_users_temp)\n",
    "df_followers_sum_all_users[\"followers_match_count_rel_difference\"] = rel_diff_survey(df_followers_sum_all_users_temp)\n",
    "\n",
    "df_friends_sum_all_users[\"friends_match_count_mean\"] = df_friends_sum_all_users[[h for h in list(df_friends_sum_all_users) if \"V\" in h]].mean(axis=1)\n",
    "df_friends_sum_all_users[\"friends_match_count_var\"] = df_friends_sum_all_users[[h for h in list(df_friends_sum_all_users) if \"V\" in h]].var(axis=1)\n",
    "df_friends_sum_all_users[\"friends_match_count_std\"] = df_friends_sum_all_users[[h for h in list(df_friends_sum_all_users) if \"V\" in h]].std(axis=1)\n",
    "df_friends_sum_all_users_temp = df_friends_sum_all_users[[h for h in list(df_friends_sum_all_users) if \"match_count_V\" in h]]\n",
    "df_friends_sum_all_users_temp.reset_index(drop=True, inplace = True)\n",
    "df_friends_sum_all_users[\"friends_match_count_delta_survey\"] = delta_survey(df_friends_sum_all_users_temp)\n",
    "df_friends_sum_all_users[\"friends_match_count_rel_difference\"] = rel_diff_survey(df_friends_sum_all_users_temp)\n",
    "\n",
    "df_fnf_sum_all_users[\"unweighted_bi_direct_match_count_mean\"] = df_fnf_sum_all_users[[h for h in list(df_fnf_sum_all_users) if \"V\" in h]].mean(axis=1)\n",
    "df_fnf_sum_all_users[\"unweighted_bi_direct_match_count_var\"] = df_fnf_sum_all_users[[h for h in list(df_fnf_sum_all_users) if \"V\" in h]].var(axis=1)\n",
    "df_fnf_sum_all_users[\"unweighted_bi_direct_match_count_std\"] = df_fnf_sum_all_users[[h for h in list(df_fnf_sum_all_users) if \"V\" in h]].std(axis=1)\n",
    "df_fnf_sum_all_users_temp = df_fnf_sum_all_users[[h for h in list(df_fnf_sum_all_users) if \"match_count_V\" in h]]\n",
    "df_fnf_sum_all_users_temp.reset_index(drop=True, inplace = True)\n",
    "df_fnf_sum_all_users[\"unweighted_bi_direct_match_count_delta_survey\"] = delta_survey(df_fnf_sum_all_users_temp)\n",
    "df_fnf_sum_all_users[\"unweighted_bi_direct_match_count_rel_difference\"] = rel_diff_survey(df_fnf_sum_all_users_temp)\n",
    "\n",
    "df_followers_sum_all_users.head()"
   ]
  },
  {
   "cell_type": "markdown",
   "metadata": {
    "colab_type": "text",
    "id": "GkWsQkFvQhg0"
   },
   "source": [
    "Sum all matched words"
   ]
  },
  {
   "cell_type": "code",
   "execution_count": null,
   "metadata": {
    "colab": {
     "base_uri": "https://localhost:8080/",
     "height": 241
    },
    "colab_type": "code",
    "executionInfo": {
     "elapsed": 25832,
     "status": "ok",
     "timestamp": 1581685153340,
     "user": {
      "displayName": "DISPLAYNAME",
      "photoUrl": "PHOTOURL",
      "userId": "USERID"
     },
     "user_tz": 0
    },
    "id": "3mk7CZGfQimF",
    "outputId": "986ee6f5-63c9-41b4-e407-61a946ec40b3"
   },
   "outputs": [],
   "source": [
    "df_followers_total_matched_words[\"followers_match_w_count_mean\"] = df_followers_total_matched_words[[h for h in list(df_followers_total_matched_words) if \"V\" in h]].mean(axis=1)\n",
    "df_followers_total_matched_words[\"followers_match_w_count_var\"] = df_followers_total_matched_words[[h for h in list(df_followers_total_matched_words) if \"V\" in h]].var(axis=1)\n",
    "df_followers_total_matched_words[\"followers_match_w_count_std\"] = df_followers_total_matched_words[[h for h in list(df_followers_total_matched_words) if \"V\" in h]].std(axis=1)\n",
    "df_followers_total_matched_words[\"followers_match_w_count_per_user_avg\"] = df_followers_total_matched_words['followers_match_w_count_mean']/df_followers_sum_all_users['followers_match_count_mean']\n",
    "df_followers_total_matched_words_temp = df_followers_total_matched_words[[h for h in list(df_followers_total_matched_words) if \"match_w_count_V\" in h]]\n",
    "df_followers_total_matched_words_temp.reset_index(drop=True, inplace = True)\n",
    "df_followers_total_matched_words[\"followers_match_w_count_delta_survey\"] = delta_survey(df_followers_total_matched_words_temp)\n",
    "df_followers_total_matched_words[\"followers_match_w_count_rel_difference\"] = rel_diff_survey(df_followers_total_matched_words_temp)\n",
    "\n",
    "df_friends_total_matched_words[\"friends_match_w_count_mean\"] = df_friends_total_matched_words[[h for h in list(df_friends_total_matched_words) if \"V\" in h]].mean(axis=1)\n",
    "df_friends_total_matched_words[\"friends_match_w_count_var\"] = df_friends_total_matched_words[[h for h in list(df_friends_total_matched_words) if \"V\" in h]].var(axis=1)\n",
    "df_friends_total_matched_words[\"friends_match_w_count_std\"] = df_friends_total_matched_words[[h for h in list(df_friends_total_matched_words) if \"V\" in h]].std(axis=1)\n",
    "df_friends_total_matched_words[\"friends_match_w_count_per_user_avg\"] = df_friends_total_matched_words[\"friends_match_w_count_mean\"]/df_friends_sum_all_users[\"friends_match_count_mean\"]\n",
    "df_friends_total_matched_words_temp = df_friends_total_matched_words[[h for h in list(df_friends_total_matched_words) if \"match_w_count_V\" in h]]\n",
    "df_friends_total_matched_words_temp.reset_index(drop=True, inplace = True)\n",
    "df_friends_total_matched_words[\"friends_match_w_count_delta_survey\"] = delta_survey(df_friends_total_matched_words_temp)\n",
    "df_friends_total_matched_words[\"friends_match_w_count_rel_difference\"] = rel_diff_survey(df_friends_total_matched_words_temp)\n",
    "\n",
    "df_fnf_total_matched_words[\"unweighted_bi_direct_match_w_count_mean\"] = df_fnf_total_matched_words[[h for h in list(df_fnf_total_matched_words) if \"V\" in h]].mean(axis=1)\n",
    "df_fnf_total_matched_words[\"unweighted_bi_direct_match_w_count_var\"] = df_fnf_total_matched_words[[h for h in list(df_fnf_total_matched_words) if \"V\" in h]].var(axis=1)\n",
    "df_fnf_total_matched_words[\"unweighted_bi_direct_match_w_count_std\"] = df_fnf_total_matched_words[[h for h in list(df_fnf_total_matched_words) if \"V\" in h]].std(axis=1)\n",
    "df_fnf_total_matched_words[\"unweighted_bi_direct_match_w_per_user_count_avg\"] = df_fnf_total_matched_words[\"unweighted_bi_direct_match_w_count_mean\"]/df_fnf_sum_all_users[\"unweighted_bi_direct_match_count_mean\"]\n",
    "df_fnf_total_matched_words_temp = df_fnf_total_matched_words[[h for h in list(df_fnf_total_matched_words) if \"match_w_count_V\" in h]]\n",
    "df_fnf_total_matched_words_temp.reset_index(drop=True, inplace = True)\n",
    "df_fnf_total_matched_words[\"unweighted_bi_direct_match_w_count_delta_survey\"] = delta_survey(df_fnf_total_matched_words_temp)\n",
    "df_fnf_total_matched_words[\"unweighted_bi_direct_match_w_count_rel_difference\"] = rel_diff_survey(df_fnf_total_matched_words_temp)\n",
    "\n",
    "df_followers_total_matched_words.head()"
   ]
  },
  {
   "cell_type": "markdown",
   "metadata": {
    "colab_type": "text",
    "id": "ip_QZGZsph24"
   },
   "source": [
    "# Create Accelerated Dataframe (Independent Variable)"
   ]
  },
  {
   "cell_type": "code",
   "execution_count": null,
   "metadata": {
    "colab": {
     "base_uri": "https://localhost:8080/",
     "height": 360
    },
    "colab_type": "code",
    "executionInfo": {
     "elapsed": 25818,
     "status": "ok",
     "timestamp": 1581685153340,
     "user": {
      "displayName": "DISPLAYNAME",
      "photoUrl": "PHOTOURL",
      "userId": "USERID"
     },
     "user_tz": 0
    },
    "id": "Xfb8h5znphPG",
    "outputId": "319b7738-e19d-4b6f-bbb2-61b6d2d81e09"
   },
   "outputs": [],
   "source": [
    "df_connections = pd.read_excel(base_path + \"Analysis/SNA/company_investor_edgelist_attributes.xlsx\", 'Connections', header=None, skiprows=0, names=['company_name','accelerated'], usecols=\"A,C\")\n",
    "print(\"df_connections\", df_connections.shape)\n",
    "df_accelerated = df_connections[df_connections['accelerated'].isin([\"Accelerated\", \"Accelerated and Invested\"])]\n",
    "print(\"df_accelerated\", df_accelerated.shape)\n",
    "df_accelerated.drop_duplicates(subset=\"company_name\", keep='first', inplace=True)\n",
    "print(\"df_accelerated_dupl_drop\", df_accelerated.shape)\n",
    "df_accelerated = df_accelerated.reset_index(drop=True)\n",
    "df_accelerated['accelerated'].replace({'Accelerated and Invested': True,'Accelerated': True},inplace = True)\n",
    "df_accelerated.tail()"
   ]
  },
  {
   "cell_type": "code",
   "execution_count": null,
   "metadata": {
    "colab": {
     "base_uri": "https://localhost:8080/",
     "height": 68
    },
    "colab_type": "code",
    "executionInfo": {
     "elapsed": 25813,
     "status": "ok",
     "timestamp": 1581685153341,
     "user": {
      "displayName": "DISPLAYNAME",
      "photoUrl": "PHOTOURL",
      "userId": "USERID"
     },
     "user_tz": 0
    },
    "id": "laWb2GpJsF2O",
    "outputId": "be9e2b11-0c9f-4ee4-abd3-786fa7fca6d5"
   },
   "outputs": [],
   "source": [
    "df_accelerated.loc[df_accelerated['company_name'] == \"reinfer\"]\n",
    "#df_accelerated.loc[df_accelerated['accelerated'] == \"Accelerated\"]\n",
    "#df_accelerated[\"company_name\"].value_counts()"
   ]
  },
  {
   "cell_type": "markdown",
   "metadata": {
    "colab_type": "text",
    "id": "njFE2jZDsRau"
   },
   "source": [
    "# Create Invested Dataframe (Independent Variable)"
   ]
  },
  {
   "cell_type": "code",
   "execution_count": null,
   "metadata": {
    "colab": {
     "base_uri": "https://localhost:8080/",
     "height": 326
    },
    "colab_type": "code",
    "executionInfo": {
     "elapsed": 25806,
     "status": "ok",
     "timestamp": 1581685153341,
     "user": {
      "displayName": "DISPLAYNAME",
      "photoUrl": "PHOTOURL",
      "userId": "USERID"
     },
     "user_tz": 0
    },
    "id": "4qJ22-nzsRzP",
    "outputId": "f5329e8d-305d-4159-9af3-4830f69a48a0"
   },
   "outputs": [],
   "source": [
    "df_connections = pd.read_excel(base_path + \"Analysis/SNA/company_investor_edgelist_attributes.xlsx\", 'Connections', header=None, skiprows=0, names=['company_name','invested'], usecols=\"A,C\")\n",
    "df_invested = df_connections[df_connections['invested'].isin([\"Invested\", \"Accelerated and Invested\"])]\n",
    "df_invested.drop_duplicates(subset=None, keep='first', inplace=True)\n",
    "df_invested = df_invested.reset_index(drop=True)\n",
    "df_invested['invested'].replace({'Accelerated and Invested': True},inplace = True)\n",
    "df_invested['invested'].replace({'Invested': True},inplace = True)\n",
    "df_invested.drop_duplicates(inplace=True)\n",
    "df_invested.head()"
   ]
  },
  {
   "cell_type": "code",
   "execution_count": null,
   "metadata": {
    "colab": {
     "base_uri": "https://localhost:8080/",
     "height": 100
    },
    "colab_type": "code",
    "executionInfo": {
     "elapsed": 25800,
     "status": "ok",
     "timestamp": 1581685153342,
     "user": {
      "displayName": "DISPLAYNAME",
      "photoUrl": "PHOTOURL",
      "userId": "USERID"
     },
     "user_tz": 0
    },
    "id": "zaNYN_MhlCLl",
    "outputId": "2b2bef50-d501-488c-ce2c-a2de00b8c831"
   },
   "outputs": [],
   "source": [
    "df_invested.loc[df_invested['company_name'] == \"reinfer\"]"
   ]
  },
  {
   "cell_type": "markdown",
   "metadata": {
    "colab_type": "text",
    "id": "njV9PMg-uoob"
   },
   "source": [
    "# Create Description Dataframe (Independent Variable)"
   ]
  },
  {
   "cell_type": "code",
   "execution_count": null,
   "metadata": {
    "colab": {
     "base_uri": "https://localhost:8080/",
     "height": 54
    },
    "colab_type": "code",
    "executionInfo": {
     "elapsed": 25794,
     "status": "ok",
     "timestamp": 1581685153342,
     "user": {
      "displayName": "DISPLAYNAME",
      "photoUrl": "PHOTOURL",
      "userId": "USERID"
     },
     "user_tz": 0
    },
    "id": "lnxD4Hq9d0n3",
    "outputId": "723549b6-c24b-4ec1-fcce-e9229bc2ec58"
   },
   "outputs": [],
   "source": [
    "df_before_split = pd.read_excel(base_path + \"Pitchbook_Crunchbase_Tracxn_Raw/Don't touch \" + version_id + \"/\" + version_id + \".xlsx\" , 'V14df_all', header=None, skiprows=1, names=['company_name','desc','source'], usecols=\"A,B,R\")\n",
    "df_before_split.head()\n",
    "\n",
    "D = df_before_split.to_dict(\"index\")\n",
    "print(D)\n",
    "Desc_dict = {}\n",
    "# i = 0\n",
    "for key, row_dict in D.items():\n",
    "#   i+=1\n",
    "#   if i > 10:\n",
    "#     break\n",
    "#   print(key, row_dict)\n",
    "  c_name = row_dict[\"company_name\"]\n",
    "  if c_name not in Desc_dict:\n",
    "    Desc_dict[c_name] = {}\n",
    "  source = row_dict[\"source\"]\n",
    "  desc = row_dict[\"desc\"]\n",
    "  Desc_dict[c_name][source]=desc\n",
    "\n",
    "#pp.pprint(Desc_dict)"
   ]
  },
  {
   "cell_type": "code",
   "execution_count": null,
   "metadata": {
    "colab": {
     "base_uri": "https://localhost:8080/",
     "height": 445
    },
    "colab_type": "code",
    "executionInfo": {
     "elapsed": 25784,
     "status": "ok",
     "timestamp": 1581685153342,
     "user": {
      "displayName": "DISPLAYNAME",
      "photoUrl": "PHOTOURL",
      "userId": "USERID"
     },
     "user_tz": 0
    },
    "id": "oXN21KCZghYo",
    "outputId": "1f5efde7-f5f8-4e5f-cc82-dbde5cbbfd4e"
   },
   "outputs": [],
   "source": [
    "desc_df = pd.DataFrame.from_dict(Desc_dict, orient='index')\n",
    "desc_df.reset_index(level=0, inplace=True)\n",
    "desc_df = desc_df.rename(index=str, columns={\"index\" : \"company_name\", \"Pitchbook\" : \"desc_pitchbook\", \"Tracxn\" : \"desc_tracxn\", \"Crunchbase\" : \"desc_crunchbase\"})\n",
    "desc_df.head()"
   ]
  },
  {
   "cell_type": "code",
   "execution_count": null,
   "metadata": {
    "colab": {
     "base_uri": "https://localhost:8080/",
     "height": 411
    },
    "colab_type": "code",
    "executionInfo": {
     "elapsed": 25779,
     "status": "ok",
     "timestamp": 1581685153343,
     "user": {
      "displayName": "DISPLAYNAME",
      "photoUrl": "PHOTOURL",
      "userId": "USERID"
     },
     "user_tz": 0
    },
    "id": "3CS_ILmTBZxv",
    "outputId": "e6a10671-ced2-42b6-fe14-bb3a2c8916f0"
   },
   "outputs": [],
   "source": [
    "src_pitchbook_df = desc_df[[\"company_name\",\"desc_pitchbook\"]]\n",
    "src_pitchbook_df = src_pitchbook_df[src_pitchbook_df.desc_pitchbook.notnull()]\n",
    "src_pitchbook_df[\"src_pitchbook\"] = True\n",
    "src_pitchbook_df.head()"
   ]
  },
  {
   "cell_type": "code",
   "execution_count": null,
   "metadata": {
    "colab": {
     "base_uri": "https://localhost:8080/",
     "height": 394
    },
    "colab_type": "code",
    "executionInfo": {
     "elapsed": 25773,
     "status": "ok",
     "timestamp": 1581685153343,
     "user": {
      "displayName": "DISPLAYNAME",
      "photoUrl": "PHOTOURL",
      "userId": "USERID"
     },
     "user_tz": 0
    },
    "id": "C414hg_2CR7m",
    "outputId": "86d6424a-78f5-4518-b7f6-22e07ee3462d"
   },
   "outputs": [],
   "source": [
    "src_crunchbase_df = desc_df[[\"company_name\",\"desc_crunchbase\"]]\n",
    "src_crunchbase_df = src_crunchbase_df[src_crunchbase_df.desc_crunchbase.notnull()]\n",
    "src_crunchbase_df[\"src_crunchbase\"] = True\n",
    "src_crunchbase_df.head()"
   ]
  },
  {
   "cell_type": "code",
   "execution_count": null,
   "metadata": {
    "colab": {
     "base_uri": "https://localhost:8080/",
     "height": 530
    },
    "colab_type": "code",
    "executionInfo": {
     "elapsed": 25766,
     "status": "ok",
     "timestamp": 1581685153343,
     "user": {
      "displayName": "DISPLAYNAME",
      "photoUrl": "PHOTOURL",
      "userId": "USERID"
     },
     "user_tz": 0
    },
    "id": "LE3MLPJ-Cb7r",
    "outputId": "ea55e743-3e1d-49d6-fff5-c52c909f0b48"
   },
   "outputs": [],
   "source": [
    "src_tracxn_df = desc_df[[\"company_name\",\"desc_tracxn\"]]\n",
    "src_tracxn_df = src_tracxn_df[src_tracxn_df.desc_tracxn.notnull()]\n",
    "src_tracxn_df[\"src_tracxn\"] = True\n",
    "src_tracxn_df.head()"
   ]
  },
  {
   "cell_type": "markdown",
   "metadata": {
    "colab_type": "text",
    "id": "sAMwhUEyaMF7"
   },
   "source": [
    "# Webrank import"
   ]
  },
  {
   "cell_type": "code",
   "execution_count": null,
   "metadata": {
    "colab": {
     "base_uri": "https://localhost:8080/",
     "height": 241
    },
    "colab_type": "code",
    "executionInfo": {
     "elapsed": 25760,
     "status": "ok",
     "timestamp": 1581685153343,
     "user": {
      "displayName": "DISPLAYNAME",
      "photoUrl": "PHOTOURL",
      "userId": "USERID"
     },
     "user_tz": 0
    },
    "id": "P6XAXhXT9DoV",
    "outputId": "5f8858d9-5cc7-4698-9afa-ac9b1215eac7"
   },
   "outputs": [],
   "source": [
    "df_webrank = pd.read_excel(base_path + \"Analysis/FILEPATH\" , 'df_webrank_no_dupl_no_nan', skiprows=0, usecols=\"A,B,C\")\n",
    "print(df_webrank.shape)\n",
    "df_webrank.head()"
   ]
  },
  {
   "cell_type": "code",
   "execution_count": null,
   "metadata": {
    "colab": {
     "base_uri": "https://localhost:8080/",
     "height": 100
    },
    "colab_type": "code",
    "executionInfo": {
     "elapsed": 25755,
     "status": "ok",
     "timestamp": 1581685153344,
     "user": {
      "displayName": "DISPLAYNAME",
      "photoUrl": "PHOTOURL",
      "userId": "USERID"
     },
     "user_tz": 0
    },
    "id": "Ulfn1wCcMycz",
    "outputId": "6a09f49d-8a65-49f9-fe3f-16833355c6a9"
   },
   "outputs": [],
   "source": [
    "df_webrank.loc[df_webrank['company_name'] == \"petagene\"]"
   ]
  },
  {
   "cell_type": "markdown",
   "metadata": {
    "colab_type": "text",
    "id": "u1E2Mt6zzErn"
   },
   "source": [
    "# Create company B2B or B2C Dataframe (Independent Variable)"
   ]
  },
  {
   "cell_type": "code",
   "execution_count": null,
   "metadata": {
    "colab": {
     "base_uri": "https://localhost:8080/",
     "height": 204
    },
    "colab_type": "code",
    "executionInfo": {
     "elapsed": 25743,
     "status": "ok",
     "timestamp": 1581685153344,
     "user": {
      "displayName": "DISPLAYNAME",
      "photoUrl": "PHOTOURL",
      "userId": "USERID"
     },
     "user_tz": 0
    },
    "id": "nkxPQEA0zErn",
    "outputId": "82d40f42-11d2-4411-a85a-aa053ba49714"
   },
   "outputs": [],
   "source": [
    "df_b2b = pd.read_excel(base_path + \"Analysis/Industry Match Manual.xlsx\" , 'description', header=None, skiprows=1, names=['company_name','b2b'], usecols=\"A,B\")\n",
    "df_b2b = df_b2b.drop_duplicates(subset='company_name', keep=\"first\")\n",
    "df_b2b.head()"
   ]
  },
  {
   "cell_type": "markdown",
   "metadata": {
    "colab_type": "text",
    "id": "5s7de-VFxDJD"
   },
   "source": [
    "# Create company HQ city Dataframe (Independent Variable)"
   ]
  },
  {
   "cell_type": "code",
   "execution_count": null,
   "metadata": {
    "colab": {
     "base_uri": "https://localhost:8080/",
     "height": 241
    },
    "colab_type": "code",
    "executionInfo": {
     "elapsed": 25730,
     "status": "ok",
     "timestamp": 1581685153345,
     "user": {
      "displayName": "DISPLAYNAME",
      "photoUrl": "PHOTOURL",
      "userId": "USERID"
     },
     "user_tz": 0
    },
    "id": "HU5Hfeq9xJO8",
    "outputId": "c439839d-63a9-4a37-9b3f-206046dc98a7"
   },
   "outputs": [],
   "source": [
    "df_hq_city = pd.read_excel(base_path + \"Analysis/companies HQ city.xlsx\" , 'df_HQ_city', header=None, skiprows=1, names=['company_name','hq_city'], usecols=\"A,B\")\n",
    "df_hq_city = df_hq_city.drop_duplicates(subset='company_name', keep=\"first\")\n",
    "df_hq_city.head()"
   ]
  },
  {
   "cell_type": "markdown",
   "metadata": {
    "colab_type": "text",
    "id": "6ciXiwXIoUs-"
   },
   "source": [
    "# Create Twitter SNA Dataframe (Independent Variable)"
   ]
  },
  {
   "cell_type": "code",
   "execution_count": null,
   "metadata": {
    "colab": {
     "base_uri": "https://localhost:8080/",
     "height": 241
    },
    "colab_type": "code",
    "executionInfo": {
     "elapsed": 36876,
     "status": "ok",
     "timestamp": 1581685164503,
     "user": {
      "displayName": "DISPLAYNAME",
      "photoUrl": "PHOTOURL",
      "userId": "USERID"
     },
     "user_tz": 0
    },
    "id": "m9tZG7DJ_8s9",
    "outputId": "e2c54a17-15e2-4a0a-bb2a-c2e0aed19c3f"
   },
   "outputs": [],
   "source": [
    "sna_in_versions_file = base_path + \"Analysis/SNA/SNA in Versions.xlsx\"\n",
    "\n",
    "# import all dataframes with all columns\n",
    "df_startupsfnf_all_columns = pd.read_excel(sna_in_versions_file, 'startupsfnf_all_columns', skiprows=0).drop_duplicates(subset='company_name', keep=\"first\").reset_index(drop=True)\n",
    "df_startupsfriends_all_columns = pd.read_excel(sna_in_versions_file, 'startupsfriends_all_columns', skiprows=0).drop_duplicates(subset='company_name', keep=\"first\").reset_index(drop=True)\n",
    "df_startupsfollowers_all_columns = pd.read_excel(sna_in_versions_file, 'startupsfollower_all_columns', skiprows=0).drop_duplicates(subset='company_name', keep=\"first\").reset_index(drop=True)\n",
    "df_unweighted_bi_direct_all_columns = pd.read_excel(sna_in_versions_file, 'bi_direct_all_columns', skiprows=0).drop_duplicates(subset='company_name', keep=\"first\").reset_index(drop=True)\n",
    "df_weighted_bi_direct_all_columns = pd.read_excel(sna_in_versions_file, 'weighted_bi_direct_all_columns', skiprows=0).drop_duplicates(subset='company_name', keep=\"first\").reset_index(drop=True)\n",
    "\n",
    "\n",
    "# drop V0, info headers, and twitter_ids from all dfs\n",
    "info_header = ['event', 'name_change', 'company_name_current', 'dropper']\n",
    "df_startupsfnf_all_columns.drop([c for c in list(df_startupsfnf_all_columns) if \"V0\" in c or \"twitter\" in c] + info_header, axis=1, inplace = True)\n",
    "df_startupsfriends_all_columns.drop([c for c in list(df_startupsfriends_all_columns) if \"V0\" in c or \"twitter\" in c] + info_header, axis=1, inplace = True)\n",
    "df_startupsfollowers_all_columns.drop([c for c in list(df_startupsfollowers_all_columns) if \"V0\" in c or \"twitter\" in c] + info_header, axis=1, inplace = True)\n",
    "df_unweighted_bi_direct_all_columns.drop([c for c in list(df_unweighted_bi_direct_all_columns) if \"V0\" in c or \"twitter\" in c] + info_header, axis=1, inplace = True)\n",
    "df_weighted_bi_direct_all_columns.drop([c for c in list(df_weighted_bi_direct_all_columns) if \"V0\" in c or \"twitter\" in c] + info_header, axis=1, inplace = True)\n",
    "\n",
    "# rename columns\n",
    "df_startupsfnf_all_columns = df_startupsfnf_all_columns.rename(index=str, columns={\"degree_V1\":\"fnf_degree_V01\", \"degree_centrality_V1\":\"fnf_degree_centrality_V01\", \"degree_V2\":\"fnf_degree_V02\", \"degree_centrality_V2\":\"fnf_degree_centrality_V02\", \"degree_V3\":\"fnf_degree_V03\", \"degree_centrality_V3\":\"fnf_degree_centrality_V03\", \"degree_V4\":\"fnf_degree_V04\", \"degree_centrality_V4\":\"fnf_degree_centrality_V04\", \"degree_V5\":\"fnf_degree_V05\", \"degree_centrality_V5\":\"fnf_degree_centrality_V05\", \"degree_V6\" : \"fnf_degree_V06\", \"degree_centrality_V6\":\"fnf_degree_centrality_V06\", \"degree_V7\":\"fnf_degree_V07\", \"degree_centrality_V7\":\"fnf_degree_centrality_V07\", \"degree_V8\":\"fnf_degree_V08\", \"degree_centrality_V8\":\"fnf_degree_centrality_V08\", \"degree_V9\":\"fnf_degree_V09\", \"degree_centrality_V9\":\"fnf_degree_centrality_V09\", \"degree_V10\":\"fnf_degree_V10\", \"degree_centrality_V10\":\"fnf_degree_centrality_V10\", \"degree_V11\":\"fnf_degree_V11\", \"degree_centrality_V11\":\"fnf_degree_centrality_V11\", \"degree_V12\":\"fnf_degree_V12\", \"degree_centrality_V12\":\"fnf_degree_centrality_V12\", \"degree_V13\":\"fnf_degree_V13\", \"degree_centrality_V13\":\"fnf_degree_centrality_V13\", \"degree_V14\":\"fnf_degree_V14\", \"degree_centrality_V14\":\"fnf_degree_centrality_V14\"})\n",
    "df_startupsfriends_all_columns = df_startupsfriends_all_columns.rename(index=str, columns={\"out_degree_V1\":\"friends_degree_V01\", \"degree_centrality_V1\":\"friends_degree_centrality_V01\", \"out_degree_V2\":\"friends_degree_V02\", \"degree_centrality_V2\":\"friends_degree_centrality_V02\", \"out_degree_V3\":\"friends_degree_V03\", \"degree_centrality_V3\":\"friends_degree_centrality_V03\", \"out_degree_V4\":\"friends_degree_V04\", \"degree_centrality_V4\":\"friends_degree_centrality_V04\", \"out_degree_V5\":\"friends_degree_V05\", \"degree_centrality_V5\":\"friends_degree_centrality_V05\", \"out_degree_V6\" : \"friends_degree_V06\", \"degree_centrality_V6\":\"friends_degree_centrality_V06\", \"out_degree_V7\":\"friends_degree_V07\", \"degree_centrality_V7\":\"friends_degree_centrality_V07\", \"out_degree_V8\":\"friends_degree_V08\", \"degree_centrality_V8\":\"friends_degree_centrality_V08\", \"out_degree_V9\":\"friends_degree_V09\", \"degree_centrality_V9\":\"friends_degree_centrality_V09\", \"out_degree_V10\":\"friends_degree_V10\", \"degree_centrality_V10\":\"friends_degree_centrality_V10\", \"out_degree_V11\":\"friends_degree_V11\", \"degree_centrality_V11\":\"friends_degree_centrality_V11\", \"out_degree_V12\":\"friends_degree_V12\", \"degree_centrality_V12\":\"friends_degree_centrality_V12\", \"out_degree_V13\":\"friends_degree_V13\", \"degree_centrality_V13\":\"friends_degree_centrality_V13\", \"out_degree_V14\":\"friends_degree_V14\", \"degree_centrality_V14\":\"friends_degree_centrality_V14\"})\n",
    "df_startupsfollowers_all_columns = df_startupsfollowers_all_columns.rename(index=str, columns={\"in_degree_V1\":\"followers_degree_V01\", \"degree_centrality_V1\":\"followers_degree_centrality_V01\", \"in_degree_V2\":\"followers_degree_V02\", \"degree_centrality_V2\":\"followers_degree_centrality_V02\", \"in_degree_V3\":\"followers_degree_V03\", \"degree_centrality_V3\":\"followers_degree_centrality_V03\", \"in_degree_V4\":\"followers_degree_V04\", \"degree_centrality_V4\":\"followers_degree_centrality_V04\", \"in_degree_V5\":\"followers_degree_V05\", \"degree_centrality_V5\":\"followers_degree_centrality_V05\", \"in_degree_V6\" : \"followers_degree_V06\", \"degree_centrality_V6\":\"followers_degree_centrality_V06\", \"in_degree_V7\":\"followers_degree_V07\", \"degree_centrality_V7\":\"followers_degree_centrality_V07\", \"in_degree_V8\":\"followers_degree_V08\", \"degree_centrality_V8\":\"followers_degree_centrality_V08\", \"in_degree_V9\":\"followers_degree_V09\", \"degree_centrality_V9\":\"followers_degree_centrality_V09\", \"in_degree_V10\":\"followers_degree_V10\", \"degree_centrality_V10\":\"followers_degree_centrality_V10\", \"in_degree_V11\":\"followers_degree_V11\", \"degree_centrality_V11\":\"followers_degree_centrality_V11\", \"in_degree_V12\":\"followers_degree_V12\", \"degree_centrality_V12\":\"followers_degree_centrality_V12\", \"in_degree_V13\":\"followers_degree_V13\", \"degree_centrality_V13\":\"followers_degree_centrality_V13\", \"in_degree_V14\":\"followers_degree_V14\", \"degree_centrality_V14\":\"followers_degree_centrality_V14\"})\n",
    "df_unweighted_bi_direct_all_columns = df_unweighted_bi_direct_all_columns.rename(index=str, columns={\"degree_V1\":\"unweighted_bi_direct_degree_V01\", \"degree_centrality_V1\":\"unweighted_bi_direct_degree_centrality_V01\", \"degree_V2\":\"unweighted_bi_direct_degree_V02\", \"degree_centrality_V2\":\"unweighted_bi_direct_degree_centrality_V02\", \"degree_V3\":\"unweighted_bi_direct_degree_V03\", \"degree_centrality_V3\":\"unweighted_bi_direct_degree_centrality_V03\", \"degree_V4\":\"unweighted_bi_direct_degree_V04\", \"degree_centrality_V4\":\"unweighted_bi_direct_degree_centrality_V04\", \"degree_V5\":\"unweighted_bi_direct_degree_V05\", \"degree_centrality_V5\":\"unweighted_bi_direct_degree_centrality_V05\", \"degree_V6\" : \"unweighted_bi_direct_degree_V06\", \"degree_centrality_V6\":\"unweighted_bi_direct_degree_centrality_V06\", \"degree_V7\":\"unweighted_bi_direct_degree_V07\", \"degree_centrality_V7\":\"unweighted_bi_direct_degree_centrality_V07\", \"degree_V8\":\"unweighted_bi_direct_degree_V08\", \"degree_centrality_V8\":\"unweighted_bi_direct_degree_centrality_V08\", \"degree_V9\":\"unweighted_bi_direct_degree_V09\", \"degree_centrality_V9\":\"unweighted_bi_direct_degree_centrality_V09\", \"degree_V10\":\"unweighted_bi_direct_degree_V10\", \"degree_centrality_V10\":\"unweighted_bi_direct_degree_centrality_V10\", \"degree_V11\":\"unweighted_bi_direct_degree_V11\", \"degree_centrality_V11\":\"unweighted_bi_direct_degree_centrality_V11\", \"degree_V12\":\"unweighted_bi_direct_degree_V12\", \"degree_centrality_V12\":\"unweighted_bi_direct_degree_centrality_V12\", \"degree_V13\":\"unweighted_bi_direct_degree_V13\", \"degree_centrality_V13\":\"unweighted_bi_direct_degree_centrality_V13\", \"degree_V14\":\"unweighted_bi_direct_degree_V14\", \"degree_centrality_V14\":\"unweighted_bi_direct_degree_centrality_V14\"})\n",
    "df_weighted_bi_direct_all_columns = df_weighted_bi_direct_all_columns.rename(index=str, columns={\"weighted_degree_V1\":\"fr_weighted_bi_direct_degree_V01\", \"weighted_degree_centrality_V1\":\"fr_weighted_bi_direct_degree_centrality_V01\", \"weighted_degree_V2\":\"fr_weighted_bi_direct_degree_V02\", \"weighted_degree_centrality_V2\":\"fr_weighted_bi_direct_degree_centrality_V02\", \"weighted_degree_V3\":\"fr_weighted_bi_direct_degree_V03\", \"weighted_degree_centrality_V3\":\"fr_weighted_bi_direct_degree_centrality_V03\", \"weighted_degree_V4\":\"fr_weighted_bi_direct_degree_V04\", \"weighted_degree_centrality_V4\":\"fr_weighted_bi_direct_degree_centrality_V04\", \"weighted_degree_V5\":\"fr_weighted_bi_direct_degree_V05\", \"weighted_degree_centrality_V5\":\"fr_weighted_bi_direct_degree_centrality_V05\", \"weighted_degree_V6\" : \"fr_weighted_bi_direct_degree_V06\", \"weighted_degree_centrality_V6\":\"fr_weighted_bi_direct_degree_centrality_V06\", \"weighted_degree_V7\":\"fr_weighted_bi_direct_degree_V07\", \"weighted_degree_centrality_V7\":\"fr_weighted_bi_direct_degree_centrality_V07\", \"weighted_degree_V8\":\"fr_weighted_bi_direct_degree_V08\", \"weighted_degree_centrality_V8\":\"fr_weighted_bi_direct_degree_centrality_V08\", \"weighted_degree_V9\":\"fr_weighted_bi_direct_degree_V09\", \"weighted_degree_centrality_V9\":\"fr_weighted_bi_direct_degree_centrality_V09\", \"weighted_degree_V10\":\"fr_weighted_bi_direct_degree_V10\", \"weighted_degree_centrality_V10\":\"fr_weighted_bi_direct_degree_centrality_V10\", \"weighted_degree_V11\":\"fr_weighted_bi_direct_degree_V11\", \"weighted_degree_centrality_V11\":\"fr_weighted_bi_direct_degree_centrality_V11\", \"weighted_degree_V12\":\"fr_weighted_bi_direct_degree_V12\", \"weighted_degree_centrality_V12\":\"fr_weighted_bi_direct_degree_centrality_V12\", \"weighted_degree_V13\":\"fr_weighted_bi_direct_degree_V13\", \"weighted_degree_centrality_V13\":\"fr_weighted_bi_direct_degree_centrality_V13\", \"weighted_degree_V14\":\"fr_weighted_bi_direct_degree_V14\", \"weighted_degree_centrality_V14\":\"fr_weighted_bi_direct_degree_centrality_V14\"})\n",
    "\n",
    "# reduce initial column to only degree dataframe\n",
    "df_startupsfnf_degree = df_startupsfnf_all_columns[[c for c in list(df_startupsfnf_all_columns) if \"centrality\" not in c ]]#df_startupsfnf_degree = df_startupsfnf_all_columns[[c for c in list(df_startupsfnf_all_columns) if \"centrality\" not in c]]\n",
    "df_startupsfriends_degree = df_startupsfriends_all_columns[[c for c in list(df_startupsfriends_all_columns) if \"centrality\" not in c ]]\n",
    "df_startupsfollowers_degree = df_startupsfollowers_all_columns[[c for c in list(df_startupsfollowers_all_columns) if \"centrality\" not in c ]]\n",
    "df_unweighted_bi_direct_degree = df_unweighted_bi_direct_all_columns[[c for c in list(df_unweighted_bi_direct_all_columns) if \"centrality\" not in c ]]\n",
    "df_weighted_bi_direct_degree = df_weighted_bi_direct_all_columns[[c for c in list(df_weighted_bi_direct_all_columns) if \"centrality\" not in c ]]\n",
    "\n",
    "# reduce initial column to only degree_centrality dataframe\n",
    "df_startupsfnf_degree_centrality = df_startupsfnf_all_columns[[\"company_name\"] + [c for c in list(df_startupsfnf_all_columns) if \"centrality\" in c]]\n",
    "df_startupsfriends_degree_centrality = df_startupsfriends_all_columns[[\"company_name\"] + [c for c in list(df_startupsfriends_all_columns) if \"centrality\" in c]]\n",
    "df_startupsfollowers_degree_centrality = df_startupsfollowers_all_columns[[\"company_name\"] + [c for c in list(df_startupsfollowers_all_columns) if \"centrality\" in c]]\n",
    "df_unweighted_bi_direct_degree_centrality = df_unweighted_bi_direct_all_columns[[\"company_name\"] + [c for c in list(df_unweighted_bi_direct_all_columns) if \"centrality\" in c]]\n",
    "df_weighted_bi_direct_degree_centrality = df_weighted_bi_direct_all_columns[[\"company_name\"] + [c for c in list(df_weighted_bi_direct_all_columns) if \"centrality\" in c]]\n",
    "\n",
    "df_unweighted_bi_direct_degree_centrality.head()"
   ]
  },
  {
   "cell_type": "code",
   "execution_count": null,
   "metadata": {
    "colab": {
     "base_uri": "https://localhost:8080/",
     "height": 241
    },
    "colab_type": "code",
    "executionInfo": {
     "elapsed": 36856,
     "status": "ok",
     "timestamp": 1581685164504,
     "user": {
      "displayName": "DISPLAYNAME",
      "photoUrl": "PHOTOURL",
      "userId": "USERID"
     },
     "user_tz": 0
    },
    "id": "K2b9fhygtaiV",
    "outputId": "0cb4d8b4-3029-4feb-bc02-df66331792f9"
   },
   "outputs": [],
   "source": [
    "df_startupsfollowers_degree.head()"
   ]
  },
  {
   "cell_type": "code",
   "execution_count": null,
   "metadata": {
    "colab": {
     "base_uri": "https://localhost:8080/",
     "height": 241
    },
    "colab_type": "code",
    "executionInfo": {
     "elapsed": 36836,
     "status": "ok",
     "timestamp": 1581685164504,
     "user": {
      "displayName": "DISPLAYNAME",
      "photoUrl": "PHOTOURL",
      "userId": "USERID"
     },
     "user_tz": 0
    },
    "id": "STye43eMtYMm",
    "outputId": "3e43fdd3-5322-426c-f16f-714ca0672f6d"
   },
   "outputs": [],
   "source": [
    "df_startupsfriends_degree.head()"
   ]
  },
  {
   "cell_type": "code",
   "execution_count": null,
   "metadata": {
    "colab": {
     "base_uri": "https://localhost:8080/",
     "height": 241
    },
    "colab_type": "code",
    "executionInfo": {
     "elapsed": 36817,
     "status": "ok",
     "timestamp": 1581685164505,
     "user": {
      "displayName": "DISPLAYNAME",
      "photoUrl": "PHOTOURL",
      "userId": "USERID"
     },
     "user_tz": 0
    },
    "id": "kc_yXcWpbjWD",
    "outputId": "b3257cd7-8247-41ef-cbb7-765cbbe10f4d"
   },
   "outputs": [],
   "source": [
    "df_unweighted_bi_direct_degree.head()"
   ]
  },
  {
   "cell_type": "code",
   "execution_count": null,
   "metadata": {
    "colab": {
     "base_uri": "https://localhost:8080/",
     "height": 241
    },
    "colab_type": "code",
    "executionInfo": {
     "elapsed": 36796,
     "status": "ok",
     "timestamp": 1581685164505,
     "user": {
      "displayName": "DISPLAYNAME",
      "photoUrl": "PHOTOURL",
      "userId": "USERID"
     },
     "user_tz": 0
    },
    "id": "kqCHqmj7bf4-",
    "outputId": "b2b33e5d-a314-4b2d-f734-be6cd145d418"
   },
   "outputs": [],
   "source": [
    "df_weighted_bi_direct_degree.head()"
   ]
  },
  {
   "cell_type": "markdown",
   "metadata": {
    "colab_type": "text",
    "id": "gQRVJ5LNrrYN"
   },
   "source": [
    "### Degree"
   ]
  },
  {
   "cell_type": "code",
   "execution_count": null,
   "metadata": {
    "colab": {
     "base_uri": "https://localhost:8080/",
     "height": 1000
    },
    "colab_type": "code",
    "executionInfo": {
     "elapsed": 38221,
     "status": "ok",
     "timestamp": 1581685165950,
     "user": {
      "displayName": "DISPLAYNAME",
      "photoUrl": "PHOTOURL",
      "userId": "USERID"
     },
     "user_tz": 0
    },
    "id": "M_y7yCcFrpxk",
    "outputId": "13a43f51-93f1-40e7-dd1b-3e321339148d"
   },
   "outputs": [],
   "source": [
    "df_startupsfnf_degree[\"fnf_degree_var\"] = df_startupsfnf_degree[[h for h in list(df_startupsfnf_degree) if \"V\"]].var(axis=1)\n",
    "df_startupsfnf_degree[\"fnf_degree_mean\"] = df_startupsfnf_degree[[h for h in list(df_startupsfnf_degree) if \"V\"]].mean(axis=1)\n",
    "df_startupsfnf_degree[\"fnf_degree_std\"] = df_startupsfnf_degree[[h for h in list(df_startupsfnf_degree) if \"V\"]].std(axis=1)\n",
    "df_startupsfnf_degree_temp = df_startupsfnf_degree[[h for h in list(df_startupsfnf_degree) if \"fnf_degree_V\" in h]]\n",
    "df_startupsfnf_degree_temp.reset_index(drop=True, inplace = True)\n",
    "df_startupsfnf_degree[\"fnf_degree_delta_survey\"] = delta_survey(df_startupsfnf_degree_temp)\n",
    "df_startupsfnf_degree[\"fnf_degree_rel_difference\"] = rel_diff_survey(df_startupsfnf_degree_temp)\n",
    "\n",
    "df_startupsfriends_degree[\"friends_degree_mean\"] = df_startupsfriends_degree[[h for h in list(df_startupsfriends_degree) if \"V\" in h]].mean(axis=1)\n",
    "df_startupsfriends_degree[\"friends_degree_var\"] = df_startupsfriends_degree[[h for h in list(df_startupsfriends_degree) if \"V\" in h]].var(axis=1)\n",
    "df_startupsfriends_degree[\"friends_degree_std\"] = df_startupsfriends_degree[[h for h in list(df_startupsfriends_degree) if \"V\" in h]].std(axis=1)\n",
    "df_startupsfriends_degree_temp = df_startupsfriends_degree[[h for h in list(df_startupsfriends_degree) if \"friends_degree_V\" in h]]\n",
    "df_startupsfriends_degree_temp.reset_index(drop=True, inplace = True)\n",
    "df_startupsfriends_degree[\"friends_degree_delta_survey\"] = delta_survey(df_startupsfriends_degree_temp)\n",
    "df_startupsfriends_degree[\"friends_degree_rel_difference\"] = rel_diff_survey(df_startupsfriends_degree_temp)\n",
    "\n",
    "df_startupsfollowers_degree[\"followers_degree_mean\"] = df_startupsfollowers_degree[[h for h in list(df_startupsfollowers_degree) if \"V\" in h]].mean(axis=1)\n",
    "df_startupsfollowers_degree[\"followers_degree_var\"] = df_startupsfollowers_degree[[h for h in list(df_startupsfollowers_degree) if \"V\" in h]].var(axis=1)\n",
    "df_startupsfollowers_degree[\"followers_degree_std\"] = df_startupsfollowers_degree[[h for h in list(df_startupsfollowers_degree) if \"V\" in h]].std(axis=1)\n",
    "df_startupsfollowers_degree_temp = df_startupsfollowers_degree[[h for h in list(df_startupsfollowers_degree) if \"followers_degree_V\" in h]]\n",
    "df_startupsfollowers_degree_temp.reset_index(drop=True, inplace = True)\n",
    "df_startupsfollowers_degree[\"followers_degree_delta_survey\"] = delta_survey(df_startupsfollowers_degree_temp)\n",
    "df_startupsfollowers_degree[\"followers_degree_rel_difference\"] = rel_diff_survey(df_startupsfollowers_degree_temp)\n",
    "\n",
    "df_unweighted_bi_direct_degree[\"unweighted_bi_direct_degree_mean\"] = df_unweighted_bi_direct_degree[[h for h in list(df_unweighted_bi_direct_degree) if \"V\" in h]].mean(axis=1)\n",
    "df_unweighted_bi_direct_degree[\"unweighted_bi_direct_degree_var\"] = df_unweighted_bi_direct_degree[[h for h in list(df_unweighted_bi_direct_degree) if \"V\" in h]].var(axis=1)\n",
    "df_unweighted_bi_direct_degree[\"unweighted_bi_direct_degree_std\"] = df_unweighted_bi_direct_degree[[h for h in list(df_unweighted_bi_direct_degree) if \"V\" in h]].std(axis=1)\n",
    "df_unweighted_bi_direct_degree_temp = df_unweighted_bi_direct_degree[[h for h in list(df_unweighted_bi_direct_degree) if \"unweighted_bi_direct_degree_V\" in h]]\n",
    "df_unweighted_bi_direct_degree_temp.reset_index(drop=True, inplace = True)\n",
    "df_unweighted_bi_direct_degree[\"unweighted_bi_direct_degree_delta_survey\"] = delta_survey(df_unweighted_bi_direct_degree_temp)\n",
    "df_unweighted_bi_direct_degree[\"unweighted_bi_direct_degree_rel_difference\"] = rel_diff_survey(df_unweighted_bi_direct_degree_temp)\n",
    "\n",
    "df_weighted_bi_direct_degree[\"fr_weighted_bi_direct_degree_mean\"] = df_weighted_bi_direct_degree[[h for h in list(df_weighted_bi_direct_degree) if \"V\" in h]].mean(axis=1)\n",
    "df_weighted_bi_direct_degree[\"fr_weighted_bi_direct_degree_var\"] = df_weighted_bi_direct_degree[[h for h in list(df_weighted_bi_direct_degree) if \"V\" in h]].var(axis=1)\n",
    "df_weighted_bi_direct_degree[\"fr_weighted_bi_direct_degree_std\"] = df_weighted_bi_direct_degree[[h for h in list(df_weighted_bi_direct_degree) if \"V\" in h]].std(axis=1)\n",
    "df_weighted_bi_direct_degree_temp = df_weighted_bi_direct_degree[[h for h in list(df_weighted_bi_direct_degree) if \"fr_weighted_bi_direct_degree_V\" in h]]\n",
    "df_weighted_bi_direct_degree_temp.reset_index(drop=True, inplace = True)\n",
    "df_weighted_bi_direct_degree[\"fr_weighted_bi_direct_degree_delta_survey\"] = delta_survey(df_weighted_bi_direct_degree_temp)\n",
    "df_weighted_bi_direct_degree[\"fr_weighted_bi_direct_degree_rel_difference\"] = rel_diff_survey(df_weighted_bi_direct_degree_temp)"
   ]
  },
  {
   "cell_type": "markdown",
   "metadata": {
    "colab_type": "text",
    "id": "jLYgu7x4ru7m"
   },
   "source": [
    "### Degree Centrality"
   ]
  },
  {
   "cell_type": "code",
   "execution_count": null,
   "metadata": {
    "colab": {
     "base_uri": "https://localhost:8080/",
     "height": 1000
    },
    "colab_type": "code",
    "executionInfo": {
     "elapsed": 40502,
     "status": "ok",
     "timestamp": 1581685168251,
     "user": {
      "displayName": "DISPLAYNAME",
      "photoUrl": "PHOTOURL",
      "userId": "USERID"
     },
     "user_tz": 0
    },
    "id": "_5rTrMSUrxvy",
    "outputId": "7c7fea6f-9580-4335-fbcc-4c4f208fdbb3"
   },
   "outputs": [],
   "source": [
    "df_startupsfnf_degree_centrality[\"fnf_degree_centrality_mean\"] = df_startupsfnf_degree_centrality[[h for h in list(df_startupsfnf_degree_centrality) if \"V\" in h]].mean(axis=1)\n",
    "df_startupsfnf_degree_centrality[\"fnf_degree_centrality_var\"] = df_startupsfnf_degree_centrality[[h for h in list(df_startupsfnf_degree_centrality) if \"V\" in h]].var(axis=1)\n",
    "df_startupsfnf_degree_centrality[\"fnf_degree_centrality_std\"] = df_startupsfnf_degree_centrality[[h for h in list(df_startupsfnf_degree_centrality) if \"V\" in h]].std(axis=1)\n",
    "df_startupsfnf_degree_centrality_temp = df_startupsfnf_degree_centrality[[h for h in list(df_startupsfnf_degree_centrality) if \"fnf_degree_centrality_V\" in h]]\n",
    "df_startupsfnf_degree_centrality_temp.reset_index(drop=True, inplace = True)\n",
    "df_startupsfnf_degree_centrality[\"fnf_degree_centrality_delta_survey\"] = delta_survey(df_startupsfnf_degree_centrality_temp)\n",
    "df_startupsfnf_degree_centrality[\"fnf_degree_centrality_rel_difference\"] = rel_diff_survey(df_startupsfnf_degree_centrality_temp)\n",
    "\n",
    "df_startupsfriends_degree_centrality[\"friends_degree_centrality_mean\"] = df_startupsfriends_degree_centrality[[h for h in list(df_startupsfriends_degree_centrality) if \"V\" in h]].mean(axis=1)\n",
    "df_startupsfriends_degree_centrality[\"friends_degree_centrality_var\"] = df_startupsfriends_degree_centrality[[h for h in list(df_startupsfriends_degree_centrality) if \"V\" in h]].var(axis=1)\n",
    "df_startupsfriends_degree_centrality[\"friends_degree_centrality_std\"] = df_startupsfriends_degree_centrality[[h for h in list(df_startupsfriends_degree_centrality) if \"V\" in h]].std(axis=1)\n",
    "df_startupsfriends_degree_centrality_temp = df_startupsfriends_degree_centrality[[h for h in list(df_startupsfriends_degree_centrality) if \"friends_degree_centrality_V\" in h]]\n",
    "df_startupsfriends_degree_centrality_temp.reset_index(drop=True, inplace = True)\n",
    "df_startupsfriends_degree_centrality[\"friends_degree_centrality_delta_survey\"] = delta_survey(df_startupsfriends_degree_centrality_temp)\n",
    "df_startupsfriends_degree_centrality[\"friends_degree_centrality_rel_difference\"] = rel_diff_survey(df_startupsfriends_degree_centrality_temp)\n",
    "\n",
    "df_startupsfollowers_degree_centrality[\"followers_degree_centrality_mean\"] = df_startupsfollowers_degree_centrality[[h for h in list(df_startupsfollowers_degree_centrality) if \"V\" in h]].mean(axis=1)\n",
    "df_startupsfollowers_degree_centrality[\"followers_degree_centrality_var\"] = df_startupsfollowers_degree_centrality[[h for h in list(df_startupsfollowers_degree_centrality) if \"V\" in h]].var(axis=1)\n",
    "df_startupsfollowers_degree_centrality[\"followers_degree_centrality_std\"] = df_startupsfollowers_degree_centrality[[h for h in list(df_startupsfollowers_degree_centrality) if \"V\" in h]].std(axis=1)\n",
    "df_startupsfollowers_degree_centrality_temp = df_startupsfollowers_degree_centrality[[h for h in list(df_startupsfollowers_degree_centrality) if \"followers_degree_centrality_V\" in h]]\n",
    "df_startupsfollowers_degree_centrality_temp.reset_index(drop=True, inplace = True)\n",
    "df_startupsfollowers_degree_centrality[\"followers_degree_centrality_delta_survey\"] = delta_survey(df_startupsfollowers_degree_centrality_temp)\n",
    "df_startupsfollowers_degree_centrality[\"followers_degree_centrality_rel_difference\"] = rel_diff_survey(df_startupsfollowers_degree_centrality_temp)\n",
    "\n",
    "df_unweighted_bi_direct_degree_centrality[\"unweighted_bi_direct_degree_centrality_mean\"] = df_unweighted_bi_direct_degree_centrality[[h for h in list(df_unweighted_bi_direct_degree_centrality) if \"V\" in h]].mean(axis=1)\n",
    "df_unweighted_bi_direct_degree_centrality[\"unweighted_bi_direct_degree_centrality_var\"] = df_unweighted_bi_direct_degree_centrality[[h for h in list(df_unweighted_bi_direct_degree_centrality) if \"V\" in h]].var(axis=1)\n",
    "df_unweighted_bi_direct_degree_centrality[\"unweighted_bi_direct_degree_centrality_std\"] = df_unweighted_bi_direct_degree_centrality[[h for h in list(df_unweighted_bi_direct_degree_centrality) if \"V\" in h]].std(axis=1)\n",
    "df_unweighted_bi_direct_degree_centrality_temp = df_unweighted_bi_direct_degree_centrality[[h for h in list(df_unweighted_bi_direct_degree_centrality) if \"bi_direct_degree_centrality_V\" in h]]\n",
    "df_unweighted_bi_direct_degree_centrality_temp.reset_index(drop=True, inplace = True)\n",
    "df_unweighted_bi_direct_degree_centrality[\"unweighted_bi_direct_degree_centrality_delta_survey\"] = delta_survey(df_unweighted_bi_direct_degree_centrality_temp)\n",
    "df_unweighted_bi_direct_degree_centrality[\"unweighted_bi_direct_degree_centrality_rel_difference\"] = rel_diff_survey(df_unweighted_bi_direct_degree_centrality_temp)\n",
    "\n",
    "df_weighted_bi_direct_degree_centrality[\"fr_weighted_bi_direct_degree_centrality_mean\"] = df_weighted_bi_direct_degree_centrality[[h for h in list(df_weighted_bi_direct_degree_centrality) if \"V\" in h]].mean(axis=1)\n",
    "df_weighted_bi_direct_degree_centrality[\"fr_weighted_bi_direct_degree_centrality_var\"] = df_weighted_bi_direct_degree_centrality[[h for h in list(df_weighted_bi_direct_degree_centrality) if \"V\" in h]].var(axis=1)\n",
    "df_weighted_bi_direct_degree_centrality[\"fr_weighted_bi_direct_degree_centrality_std\"] = df_weighted_bi_direct_degree_centrality[[h for h in list(df_weighted_bi_direct_degree_centrality) if \"V\" in h]].std(axis=1)\n",
    "df_weighted_bi_direct_degree_centrality_temp = df_weighted_bi_direct_degree_centrality[[h for h in list(df_weighted_bi_direct_degree_centrality) if \"fr_weighted_bi_direct_degree_centrality_V\" in h]]\n",
    "df_weighted_bi_direct_degree_centrality_temp.reset_index(drop=True, inplace = True)\n",
    "df_weighted_bi_direct_degree_centrality[\"fr_weighted_bi_direct_degree_centrality_delta_survey\"] = delta_survey(df_weighted_bi_direct_degree_centrality_temp)\n",
    "df_weighted_bi_direct_degree_centrality[\"fr_weighted_bi_direct_degree_centrality_rel_difference\"] = rel_diff_survey(df_weighted_bi_direct_degree_centrality_temp)"
   ]
  },
  {
   "cell_type": "code",
   "execution_count": null,
   "metadata": {
    "colab": {
     "base_uri": "https://localhost:8080/",
     "height": 241
    },
    "colab_type": "code",
    "executionInfo": {
     "elapsed": 40483,
     "status": "ok",
     "timestamp": 1581685168252,
     "user": {
      "displayName": "DISPLAYNAME",
      "photoUrl": "PHOTOURL",
      "userId": "USERID"
     },
     "user_tz": 0
    },
    "id": "7XaXjPv36smW",
    "outputId": "a879b01b-2647-4eba-ac88-3470b800cda5"
   },
   "outputs": [],
   "source": [
    "df_weighted_bi_direct_degree_centrality.head()"
   ]
  },
  {
   "cell_type": "code",
   "execution_count": null,
   "metadata": {
    "colab": {
     "base_uri": "https://localhost:8080/",
     "height": 204
    },
    "colab_type": "code",
    "executionInfo": {
     "elapsed": 40464,
     "status": "ok",
     "timestamp": 1581685168253,
     "user": {
      "displayName": "DISPLAYNAME",
      "photoUrl": "PHOTOURL",
      "userId": "USERID"
     },
     "user_tz": 0
    },
    "id": "nu6K1uFdxi3F",
    "outputId": "cd3ccabf-dff6-4bd3-c4a8-6742361d6842"
   },
   "outputs": [],
   "source": [
    "df_ego_followers_density = pd.read_excel(base_path + \"Analysis/ego_followers_density.xlsx\") \n",
    "df_ego_followers_density.head()"
   ]
  },
  {
   "cell_type": "code",
   "execution_count": null,
   "metadata": {
    "colab": {
     "base_uri": "https://localhost:8080/",
     "height": 204
    },
    "colab_type": "code",
    "executionInfo": {
     "elapsed": 40444,
     "status": "ok",
     "timestamp": 1581685168253,
     "user": {
      "displayName": "DISPLAYNAME",
      "photoUrl": "PHOTOURL",
      "userId": "USERID"
     },
     "user_tz": 0
    },
    "id": "abfwJDJDxGQT",
    "outputId": "d48c65c2-545a-4037-fab0-815d4f96aae6"
   },
   "outputs": [],
   "source": [
    "df_ego_friends_density = pd.read_excel(base_path + \"Analysis/ego_friends_density.xlsx\")\n",
    "df_ego_friends_density.head()"
   ]
  },
  {
   "cell_type": "code",
   "execution_count": null,
   "metadata": {
    "colab": {
     "base_uri": "https://localhost:8080/",
     "height": 204
    },
    "colab_type": "code",
    "executionInfo": {
     "elapsed": 40601,
     "status": "ok",
     "timestamp": 1581685168430,
     "user": {
      "displayName": "DISPLAYNAME",
      "photoUrl": "PHOTOURL",
      "userId": "USERID"
     },
     "user_tz": 0
    },
    "id": "8d_krDfoxbtY",
    "outputId": "c09d423d-64da-4000-b234-61a47753f3be"
   },
   "outputs": [],
   "source": [
    "df_ego_bi_direct_density = pd.read_excel(base_path + \"Analysis/ego_bi_direct_density.xlsx\") \n",
    "df_ego_bi_direct_density.head()"
   ]
  },
  {
   "cell_type": "markdown",
   "metadata": {
    "colab_type": "text",
    "id": "bac3sjIsZ6zk"
   },
   "source": [
    "# Friends to Follower Ratio"
   ]
  },
  {
   "cell_type": "code",
   "execution_count": null,
   "metadata": {
    "colab": {
     "base_uri": "https://localhost:8080/",
     "height": 436
    },
    "colab_type": "code",
    "executionInfo": {
     "elapsed": 40726,
     "status": "ok",
     "timestamp": 1581685168574,
     "user": {
      "displayName": "DISPLAYNAME",
      "photoUrl": "PHOTOURL",
      "userId": "USERID"
     },
     "user_tz": 0
    },
    "id": "OuOLY_GFZ-HT",
    "outputId": "09c4fb8a-d6ab-4345-9de4-8b98daabc4be"
   },
   "outputs": [],
   "source": [
    "df_friends_to_followers = df_startupsfollowers_degree[[\"company_name\",\"followers_degree_mean\"]].merge(df_startupsfriends_degree[[\"company_name\",\"friends_degree_mean\"]], on='company_name', how='left')\n",
    "df_friends_to_followers['followers_div_by_friends_degree_ratio'] = df_friends_to_followers['followers_degree_mean']/df_friends_to_followers['friends_degree_mean']\n",
    "df_friends_to_followers = df_friends_to_followers.replace([np.inf, -np.inf], np.nan)\n",
    "df_friends_to_followers.dropna(inplace = True)\n",
    "df_friends_to_followers.drop(columns=['followers_degree_mean', 'friends_degree_mean'], inplace = True)\n",
    "print(df_friends_to_followers.shape)\n",
    "df_friends_to_followers"
   ]
  },
  {
   "cell_type": "code",
   "execution_count": null,
   "metadata": {
    "colab": {
     "base_uri": "https://localhost:8080/",
     "height": 204
    },
    "colab_type": "code",
    "executionInfo": {
     "elapsed": 40866,
     "status": "ok",
     "timestamp": 1581685168734,
     "user": {
      "displayName": "DISPLAYNAME",
      "photoUrl": "PHOTOURL",
      "userId": "USERID"
     },
     "user_tz": 0
    },
    "id": "TAvWgPzthVvM",
    "outputId": "a3f0a7d5-ceab-4d6f-dbf7-cebd2dd7da6c"
   },
   "outputs": [],
   "source": [
    "df_company2investor = pd.read_excel(base_path + \"Analysis/SNA/SNA investors and companies.xlsx\", 'V14df_company_SNA',skiprows=0,usecols = \"A,C,D,E,F\")\n",
    "df_company2investor.head()"
   ]
  },
  {
   "cell_type": "markdown",
   "metadata": {
    "colab_type": "text",
    "id": "aq9EWztCQmgR"
   },
   "source": [
    "# Create matches with most connected twitter_users"
   ]
  },
  {
   "cell_type": "code",
   "execution_count": null,
   "metadata": {
    "colab": {
     "base_uri": "https://localhost:8080/",
     "height": 204
    },
    "colab_type": "code",
    "executionInfo": {
     "elapsed": 40846,
     "status": "ok",
     "timestamp": 1581685168734,
     "user": {
      "displayName": "DISPLAYNAME",
      "photoUrl": "PHOTOURL",
      "userId": "USERID"
     },
     "user_tz": 0
    },
    "id": "jL1fni9WQnZ5",
    "outputId": "d6be5f6e-f4e0-4477-c32d-5bdaf34d5b55"
   },
   "outputs": [],
   "source": [
    "df_most_matches_with_most_connected_followers = pd.read_excel(base_path + \"Analysis/max_matches_followers.xlsx\")\n",
    "df_most_matches_with_most_connected_followers.head()"
   ]
  },
  {
   "cell_type": "code",
   "execution_count": null,
   "metadata": {
    "colab": {
     "base_uri": "https://localhost:8080/",
     "height": 204
    },
    "colab_type": "code",
    "executionInfo": {
     "elapsed": 40996,
     "status": "ok",
     "timestamp": 1581685168904,
     "user": {
      "displayName": "DISPLAYNAME",
      "photoUrl": "PHOTOURL",
      "userId": "USERID"
     },
     "user_tz": 0
    },
    "id": "gKF4KDOVRrB0",
    "outputId": "fee0382c-0110-43b2-c808-c73d0f971d86"
   },
   "outputs": [],
   "source": [
    "df_most_matches_with_most_connected_friends = pd.read_excel(base_path + \"Analysis/max_matches_friends.xlsx\")\n",
    "df_most_matches_with_most_connected_friends.head()"
   ]
  },
  {
   "cell_type": "code",
   "execution_count": null,
   "metadata": {
    "colab": {
     "base_uri": "https://localhost:8080/",
     "height": 204
    },
    "colab_type": "code",
    "executionInfo": {
     "elapsed": 41370,
     "status": "ok",
     "timestamp": 1581685169294,
     "user": {
      "displayName": "DISPLAYNAME",
      "photoUrl": "PHOTOURL",
      "userId": "USERID"
     },
     "user_tz": 0
    },
    "id": "urUzAcFRR1c-",
    "outputId": "b149bd91-9a6c-4f01-ecd8-3f40230bf367"
   },
   "outputs": [],
   "source": [
    "df_most_matches_with_most_connected_bi_direct = pd.read_excel(base_path + \"Analysis/max_matches_bi_direct.xlsx\")\n",
    "df_most_matches_with_most_connected_bi_direct.head()"
   ]
  },
  {
   "cell_type": "markdown",
   "metadata": {
    "colab_type": "text",
    "id": "GxfiH1xvIqvs"
   },
   "source": [
    "# Create Events Dataframe (Independent Variable)"
   ]
  },
  {
   "cell_type": "markdown",
   "metadata": {
    "colab_type": "text",
    "id": "Q2UwpG56GGae"
   },
   "source": [
    "Import Events"
   ]
  },
  {
   "cell_type": "code",
   "execution_count": null,
   "metadata": {
    "colab": {
     "base_uri": "https://localhost:8080/",
     "height": 204
    },
    "colab_type": "code",
    "executionInfo": {
     "elapsed": 51372,
     "status": "ok",
     "timestamp": 1581685179306,
     "user": {
      "displayName": "DISPLAYNAME",
      "photoUrl": "PHOTOURL",
      "userId": "USERID"
     },
     "user_tz": 0
    },
    "id": "cAjsy_N0F3ri",
    "outputId": "2159b9c2-9afe-4427-d25e-211eb8a05914"
   },
   "outputs": [],
   "source": [
    "df_events = pd.read_excel(base_path + \"Pitchbook_Crunchbase_Tracxn_Raw/Don't touch \" + version_id + \"/\" + version_id + \"_Pitchbook_Crunchbase_Tracxn_Database Crunchbase funding added.xlsx\" , version_id + '_event', skiprows=0, usecols=\"A,B,C,D\")\n",
    "df_events = df_events.loc[df_events['name_change'] != \"name change\"]\n",
    "df_events.drop(['name_change'], axis=1, inplace = True)\n",
    "df_events = df_events[~df_events.event_type.str.contains(\"before\")]\n",
    "\n",
    "# #------------------------Clean company_name:------------------------#\n",
    "# df_events['company_name'] = df_events['company_name'].str.replace(r\"\\(.*\\)\",\"\")\n",
    "# df_events['company_name'] = df_events['company_name'].str.replace(\"ltd.\",\"\")\n",
    "# df_events['company_name'] = df_events['company_name'].str.replace(\"ltd\",\"\")\n",
    "# df_events['company_name'] = df_events['company_name'].str.replace(\"Ltd.\",\"\")\n",
    "# df_events['company_name'] = df_events['company_name'].str.replace(\"Ltd\",\"\")\n",
    "# df_events['company_name'] = df_events['company_name'].str.replace(\"LTD\",\"\")\n",
    "# df_events['company_name'] = df_events['company_name'].str.replace(\"LLC\",\"\")\n",
    "# df_events['company_name'] = df_events['company_name'].str.replace('Limited','')\n",
    "# df_events['company_name'] = df_events['company_name'].str.lower()\n",
    "# df_events.replace('^\\s+', '', regex=True, inplace=True) #front\n",
    "# df_events.replace('\\s+$', '', regex=True, inplace=True) #end\n",
    "\n",
    "# df_events_new_column_company_name_dict = []\n",
    "# for i in range(len(df_events['company_name'])):\n",
    "#     element = df_events['company_name'][i]\n",
    "#     if df_events['company_name'][i] in company_name_dict:\n",
    "#         df_events_new_column_company_name_dict.append(company_name_dict[element])\n",
    "#     else:\n",
    "#         df_events_new_column_company_name_dict.append(df_events['company_name'][i])\n",
    "        \n",
    "# df_events['company_name'] = df_events_new_column_company_name_dict\n",
    "# #-----------------------------------------------------------#\n",
    "\n",
    "# #--------------------------------------Dropper:--------------------------------------#\n",
    "# df_events['dropper'] = 'active'\n",
    "# df_events_new_column_dropper = []\n",
    "# for i in range(len(df_events['company_name'])):\n",
    "#     element = df_events['company_name'][i]\n",
    "#     if df_events['company_name'][i] in dropper:\n",
    "#         df_events_new_column_dropper.append(dropper[element])\n",
    "#     else:\n",
    "#         df_events_new_column_dropper.append(df_events['dropper'][i])\n",
    "# df_events['dropper'] = df_events_new_column_dropper\n",
    "\n",
    "# df_events = df_events[df_events.dropper != 'inactive']\n",
    "# df_events = df_events[df_events.dropper != 'late stage']\n",
    "# df_events = df_events[df_events.dropper != 'not ai startup']\n",
    "# df_events = df_events[df_events.dropper != 'acquired']\n",
    "# df_events = df_events[df_events.dropper != 'debtfinance']\n",
    "# df_events = df_events[df_events.dropper != 'PEbacked']\n",
    "# df_events = df_events[df_events.dropper != 'duplicate']\n",
    "# #-------------------------------------------------------------#\n",
    "\n",
    "# print('After dropping we have ' + '\\033[1m' + str(len(df_events.index)) + '\\033[0m' + ' companies left in the Events Dataset')\n",
    "df_events.head()"
   ]
  },
  {
   "cell_type": "code",
   "execution_count": null,
   "metadata": {
    "colab": {},
    "colab_type": "code",
    "id": "5tu2IU6nNYhq"
   },
   "outputs": [],
   "source": [
    "# df_events_show = df_events.loc[df_events['event_type'] == str(\"Founded during study\")]\n",
    "# df_events_show.head()"
   ]
  },
  {
   "cell_type": "markdown",
   "metadata": {
    "colab_type": "text",
    "id": "cWH7HkO9GOan"
   },
   "source": [
    " Create a deal counter function to create lists with elements in range"
   ]
  },
  {
   "cell_type": "code",
   "execution_count": null,
   "metadata": {
    "colab": {
     "base_uri": "https://localhost:8080/",
     "height": 34
    },
    "colab_type": "code",
    "executionInfo": {
     "elapsed": 51355,
     "status": "ok",
     "timestamp": 1581685179308,
     "user": {
      "displayName": "DISPLAYNAME",
      "photoUrl": "PHOTOURL",
      "userId": "USERID"
     },
     "user_tz": 0
    },
    "id": "nvy3WG7aGRh4",
    "outputId": "a7a0b6b1-c0ff-4b33-9a38-cf00a3a55c61"
   },
   "outputs": [],
   "source": [
    "companies_list = df_events[\"company_name\"].tolist()\n",
    "companies_set = sorted(list(set(companies_list)))\n",
    "print(companies_set[:10])"
   ]
  },
  {
   "cell_type": "markdown",
   "metadata": {
    "colab_type": "text",
    "id": "51OzNHohGSzk"
   },
   "source": [
    "Create list with deal counts"
   ]
  },
  {
   "cell_type": "code",
   "execution_count": null,
   "metadata": {
    "colab": {
     "base_uri": "https://localhost:8080/",
     "height": 204
    },
    "colab_type": "code",
    "executionInfo": {
     "elapsed": 51347,
     "status": "ok",
     "timestamp": 1581685179309,
     "user": {
      "displayName": "DISPLAYNAME",
      "photoUrl": "PHOTOURL",
      "userId": "USERID"
     },
     "user_tz": 0
    },
    "id": "xyv2pAWJGTWi",
    "outputId": "5b5fa7c1-df28-4175-e006-a7bfe1c4d702"
   },
   "outputs": [],
   "source": [
    "company_counts = []\n",
    "for company in companies_set:\n",
    "    count_company = companies_list.count(company)\n",
    "    company_counts.append(count_company)\n",
    "    \n",
    "company_max_events_counts = []\n",
    "for company_count in company_counts:\n",
    "    l = []\n",
    "    l += company_count * [company_count]\n",
    "    company_max_events_counts.extend(l)\n",
    "\n",
    "df_events[\"company_max_events_counts\"] = company_max_events_counts\n",
    "df_events.head()"
   ]
  },
  {
   "cell_type": "markdown",
   "metadata": {
    "colab_type": "text",
    "id": "zh-O8ujKGalP"
   },
   "source": [
    "Spread columns out based on how many events occurred"
   ]
  },
  {
   "cell_type": "code",
   "execution_count": null,
   "metadata": {
    "colab": {
     "base_uri": "https://localhost:8080/",
     "height": 204
    },
    "colab_type": "code",
    "executionInfo": {
     "elapsed": 51524,
     "status": "ok",
     "timestamp": 1581685179495,
     "user": {
      "displayName": "DISPLAYNAME",
      "photoUrl": "PHOTOURL",
      "userId": "USERID"
     },
     "user_tz": 0
    },
    "id": "VfpmoXDjGa8F",
    "outputId": "6e35c4e4-2c5c-499c-9f05-13e601449b2f"
   },
   "outputs": [],
   "source": [
    "# Get total max event numbers\n",
    "company_max_events_counts = np.max(df_events.company_max_events_counts.values)\n",
    "#print(\"Max deal numbers \", company_max_events_counts)\n",
    "\n",
    "# Create header for result dataframe\n",
    "\n",
    "header = [\"company_name\"]\n",
    "for i in range(company_max_events_counts):\n",
    "  header.append(\"event_type\"+str(i))\n",
    "  header.append(\"event_date\"+str(i))\n",
    "  \n",
    "# define result dataframe\n",
    "distributed_events_dataframe = pd.DataFrame(columns=header)\n",
    "\n",
    "# populate result dataframe\n",
    "for company in list(df_events.company_name.unique()):\n",
    "  sub_data = df_events.loc[df_events.loc[:,\"company_name\"]==company]\n",
    "  sub_data.reset_index(inplace=True, drop=True)\n",
    "  \n",
    "  value_list = [company] + [None for i in range(company_max_events_counts*2)] \n",
    "  #print(value_list)\n",
    "  for row in range(len(sub_data)):\n",
    "    \n",
    "    \n",
    "    event_type = sub_data.loc[row, \"event_type\"]\n",
    "    event_date = sub_data.loc[row, \"event_date\"]\n",
    "\n",
    "    \n",
    "    value_list[row*2+1] = event_type\n",
    "    value_list[row*2+2] = event_date\n",
    "\n",
    "    \n",
    "  distributed_events_dataframe = distributed_events_dataframe.append(pd.DataFrame([value_list], columns=header))\n",
    "  \n",
    "\n",
    "distributed_events_dataframe.reset_index(inplace=True, drop=True)\n",
    "distributed_events_dataframe['had_event'] = True\n",
    "\n",
    "distributed_events_dataframe.head()"
   ]
  },
  {
   "cell_type": "markdown",
   "metadata": {
    "colab_type": "text",
    "id": "YcVXhYdbGeDs"
   },
   "source": [
    "Concatenate with all companies dataframe and fill had_event = False when there was no event"
   ]
  },
  {
   "cell_type": "markdown",
   "metadata": {
    "colab_type": "text",
    "id": "7YgamCu9GWMN"
   },
   "source": [
    "Create event number column"
   ]
  },
  {
   "cell_type": "code",
   "execution_count": null,
   "metadata": {
    "colab": {},
    "colab_type": "code",
    "id": "KHUjtvaKGWp8"
   },
   "outputs": [],
   "source": [
    "def createList(r_end): \n",
    "    return [item for item in range(1, r_end + 1)] "
   ]
  },
  {
   "cell_type": "code",
   "execution_count": null,
   "metadata": {
    "colab": {
     "base_uri": "https://localhost:8080/",
     "height": 204
    },
    "colab_type": "code",
    "executionInfo": {
     "elapsed": 51507,
     "status": "ok",
     "timestamp": 1581685179496,
     "user": {
      "displayName": "DISPLAYNAME",
      "photoUrl": "PHOTOURL",
      "userId": "USERID"
     },
     "user_tz": 0
    },
    "id": "GlsxlNPfGXJF",
    "outputId": "a8a34dd8-89e8-412e-d4f7-70b71bc14aa9"
   },
   "outputs": [],
   "source": [
    "event_number = []\n",
    "for count in company_counts:\n",
    "    event_number.extend(createList(count))\n",
    "    \n",
    "df_events[\"event_number\"] = event_number\n",
    "\n",
    "df_events.head()"
   ]
  },
  {
   "cell_type": "markdown",
   "metadata": {
    "colab_type": "text",
    "id": "NOVAWxdOJj4q"
   },
   "source": [
    "Spread columns out based on how many events occurred"
   ]
  },
  {
   "cell_type": "code",
   "execution_count": null,
   "metadata": {
    "colab": {
     "base_uri": "https://localhost:8080/",
     "height": 204
    },
    "colab_type": "code",
    "executionInfo": {
     "elapsed": 51654,
     "status": "ok",
     "timestamp": 1581685179651,
     "user": {
      "displayName": "DISPLAYNAME",
      "photoUrl": "PHOTOURL",
      "userId": "USERID"
     },
     "user_tz": 0
    },
    "id": "Arpx_-RsJi75",
    "outputId": "56f68fce-05f5-4c23-b7ef-c61536d25a3d"
   },
   "outputs": [],
   "source": [
    "# Get total max event numbers\n",
    "company_max_events_counts = np.max(df_events.company_max_events_counts.values)\n",
    "#print(\"Max deal numbers \", company_max_events_counts)\n",
    "\n",
    "# Create header for result dataframe\n",
    "\n",
    "header = [\"company_name\"]\n",
    "for i in range(company_max_events_counts):\n",
    "  header.append(\"event_type\"+str(i))\n",
    "  header.append(\"event_date\"+str(i))\n",
    "  \n",
    "# define result dataframe\n",
    "distributed_events_dataframe = pd.DataFrame(columns=header)\n",
    "\n",
    "# populate result dataframe\n",
    "for company in list(df_events.company_name.unique()):\n",
    "  sub_data = df_events.loc[df_events.loc[:,\"company_name\"]==company]\n",
    "  sub_data.reset_index(inplace=True, drop=True)\n",
    "  \n",
    "  value_list = [company] + [None for i in range(company_max_events_counts*2)] \n",
    "  #print(value_list)\n",
    "  for row in range(len(sub_data)):\n",
    "    \n",
    "    \n",
    "    event_type = sub_data.loc[row, \"event_type\"]\n",
    "    event_date = sub_data.loc[row, \"event_date\"]\n",
    "\n",
    "    \n",
    "    value_list[row*2+1] = event_type\n",
    "    value_list[row*2+2] = event_date\n",
    "\n",
    "    \n",
    "  distributed_events_dataframe = distributed_events_dataframe.append(pd.DataFrame([value_list], columns=header))\n",
    "  \n",
    "\n",
    "distributed_events_dataframe.reset_index(inplace=True, drop=True)\n",
    "distributed_events_dataframe['had_event'] = True\n",
    "\n",
    "distributed_events_dataframe.head()"
   ]
  },
  {
   "cell_type": "markdown",
   "metadata": {
    "colab_type": "text",
    "id": "fBe4LeV2Men8"
   },
   "source": [
    "# Concatenate all dataframes"
   ]
  },
  {
   "cell_type": "markdown",
   "metadata": {
    "colab_type": "text",
    "id": "-NX8XLKyGt65"
   },
   "source": [
    "Concatenate with all companies dataframe and fill had_event = False when there was no event"
   ]
  },
  {
   "cell_type": "code",
   "execution_count": null,
   "metadata": {
    "colab": {
     "base_uri": "https://localhost:8080/",
     "height": 304
    },
    "colab_type": "code",
    "executionInfo": {
     "elapsed": 53702,
     "status": "ok",
     "timestamp": 1581685181708,
     "user": {
      "displayName": "DISPLAYNAME",
      "photoUrl": "PHOTOURL",
      "userId": "USERID"
     },
     "user_tz": 0
    },
    "id": "pBN6xoamMhKk",
    "outputId": "ff13dbb3-9030-4f3e-b6e4-5fa2e180592a"
   },
   "outputs": [],
   "source": [
    "df_result = company_name_df\n",
    "df_result = df_result.merge(df_funding_rounds_and_deltas, on='company_name', how='left')\n",
    "df_result = df_result.merge(df_log_total_raised_to_date, on='company_name', how='left')\n",
    "df_result = df_result.merge(df_log_max_post_money_valuation, on='company_name', how='left')\n",
    "\n",
    "df_result = df_result.merge(df_company_names_in_versions, on='company_name', how='left')\n",
    "df_result = df_result.merge(df_twitter_ids_in_versions, on='company_name', how='left')\n",
    "df_result = df_result.merge(df_twitter_handles_in_versions, on='current_twitter_id', how='left')\n",
    "\n",
    "df_result = df_result.merge(df_company_websites_no_duplicates_no_nan, on='company_name', how='left')\n",
    "\n",
    "df_result = df_result.merge(df_accelerated, on='company_name', how='left')\n",
    "df_result = df_result.merge(df_invested, on='company_name', how='left')\n",
    "\n",
    "df_result = df_result.merge(src_pitchbook_df, on='company_name', how='left')\n",
    "df_result = df_result.merge(src_crunchbase_df, on='company_name', how='left')\n",
    "df_result = df_result.merge(src_tracxn_df, on='company_name', how='left')\n",
    "\n",
    "df_result = df_result.merge(df_webrank, on='company_name', how='left')\n",
    "\n",
    "df_result = df_result.merge(df_company_tweet_stats, on='company_name', how='left')\n",
    "\n",
    "df_result = df_result.merge(df_b2b, on='company_name', how='left')\n",
    "\n",
    "df_result = df_result.merge(df_hq_city, on='company_name', how='left')\n",
    "\n",
    "df_result = df_result.merge(df_startupsfnf_degree, on='company_name', how='left')\n",
    "df_result = df_result.merge(df_startupsfnf_degree_centrality, on='company_name', how='left')\n",
    "df_result = df_result.merge(df_startupsfriends_degree, on='company_name', how='left')\n",
    "df_result = df_result.merge(df_startupsfriends_degree_centrality, on='company_name', how='left')\n",
    "df_result = df_result.merge(df_startupsfollowers_degree, on='company_name', how='left')\n",
    "df_result = df_result.merge(df_startupsfollowers_degree_centrality, on='company_name', how='left')\n",
    "df_result = df_result.merge(df_unweighted_bi_direct_degree, on='company_name', how='left')\n",
    "df_result = df_result.merge(df_unweighted_bi_direct_degree_centrality, on='company_name', how='left')\n",
    "df_result = df_result.merge(df_weighted_bi_direct_degree, on='company_name', how='left')\n",
    "df_result = df_result.merge(df_weighted_bi_direct_degree_centrality, on='company_name', how='left')\n",
    "df_result = df_result.merge(df_friends_to_followers, on='company_name', how='left')\n",
    "\n",
    "df_result = df_result.merge(df_ego_followers_density, on='company_name', how='left')\n",
    "df_result = df_result.merge(df_ego_friends_density, on='company_name', how='left')\n",
    "df_result = df_result.merge(df_ego_bi_direct_density, on='company_name', how='left')\n",
    "\n",
    "df_result = df_result.merge(df_company2investor, on='company_name', how='left')\n",
    "\n",
    "df_result = df_result.merge(df_most_matches_with_most_connected_followers, on='company_name', how='left')\n",
    "df_result = df_result.merge(df_most_matches_with_most_connected_friends, on='company_name', how='left')\n",
    "df_result = df_result.merge(df_most_matches_with_most_connected_bi_direct, on='company_name', how='left')\n",
    "\n",
    "df_result = df_result.merge(df_new_to_followon_investor_ratio, on='company_name', how='left')\n",
    "\n",
    "df_result = df_result.merge(df_followers_sum_all_users, on='company_name', how='left')\n",
    "df_result[\"followers_match_count_per_user\"] = df_result['followers_match_count_mean']/df_result['followers_degree_mean']\n",
    "df_result = df_result.merge(df_followers_total_matched_words, on='company_name', how='left')\n",
    "df_result = df_result.merge(df_friends_sum_all_users, on='company_name', how='left')\n",
    "df_result[\"friends_match_count_per_user\"] = df_result['friends_match_count_mean']/df_result['friends_degree_mean']\n",
    "df_result = df_result.merge(df_friends_total_matched_words, on='company_name', how='left')\n",
    "df_result = df_result.merge(df_fnf_sum_all_users, on='company_name', how='left')\n",
    "df_result[\"unweighted_bi_direct_match_count_per_user\"] = df_result['unweighted_bi_direct_match_count_mean']/df_result['unweighted_bi_direct_degree_mean']\n",
    "df_result = df_result.merge(df_fnf_total_matched_words, on='company_name', how='left')\n",
    "\n",
    "df_result = df_result.merge(distributed_events_dataframe, on='company_name', how='left')\n",
    "\n",
    "df_result['invested'] = df_result['invested'].fillna(False)\n",
    "df_result['accelerated'] = df_result['accelerated'].fillna(False)\n",
    "df_result['had_event'] = df_result['had_event'].fillna(False)\n",
    "df_result['has_twitter'] = df_result[\"has_twitter\"].fillna(False)\n",
    "df_result['has_website'] = df_result[\"has_website\"].fillna(False)\n",
    "\n",
    "df_result.head()"
   ]
  },
  {
   "cell_type": "markdown",
   "metadata": {
    "colab_type": "text",
    "id": "gE7yTKuT5Y9C"
   },
   "source": [
    "## Manual edits"
   ]
  },
  {
   "cell_type": "markdown",
   "metadata": {
    "colab_type": "text",
    "id": "ky5YQ1bzCjqw"
   },
   "source": [
    "Clean non AI companies"
   ]
  },
  {
   "cell_type": "code",
   "execution_count": null,
   "metadata": {
    "colab": {},
    "colab_type": "code",
    "id": "6ZCJObgUDlVp"
   },
   "outputs": [],
   "source": [
    "df_result = df_result[(df_result['company_name'] != \"aurora-ai\")]\n",
    "df_result = df_result[(df_result['company_name'] != \"react\")]\n",
    "\n",
    "df_result.reset_index(drop=True, inplace = True)"
   ]
  },
  {
   "cell_type": "markdown",
   "metadata": {
    "colab_type": "text",
    "id": "-iZn0Ngi31Jv"
   },
   "source": [
    "Clean invested missing"
   ]
  },
  {
   "cell_type": "code",
   "execution_count": null,
   "metadata": {
    "colab": {},
    "colab_type": "code",
    "id": "R1uOyeiX38PC"
   },
   "outputs": [],
   "source": [
    "df_result.loc[df_result.company_name == \"droneid\", \"invested\"] = True\n",
    "df_result.loc[df_result.company_name == \"goinstore\", \"invested\"] = True\n",
    "df_result.loc[df_result.company_name == \"mapadore\", \"invested\"] = True\n",
    "df_result.loc[df_result.company_name == \"perchpeek\", \"invested\"] = True\n",
    "df_result.loc[df_result.company_name == \"pobuca\", \"invested\"] = True\n",
    "df_result.loc[df_result.company_name == \"policycastle\", \"invested\"] = True\n",
    "df_result.loc[df_result.company_name == \"quorso\", \"invested\"] = True\n",
    "df_result.loc[df_result.company_name == \"droneid\", \"invested\"] = True\n",
    "df_result.loc[df_result.company_name == \"vet-ai\", \"invested\"] = True\n",
    "df_result.loc[df_result.company_name == \"chatterbox\", \"invested\"] = True\n",
    "df_result.loc[df_result.company_name == \"topolytics\", \"invested\"] = True\n",
    "df_result.loc[df_result.company_name == \"wt infotech\", \"invested\"] = True"
   ]
  },
  {
   "cell_type": "markdown",
   "metadata": {
    "colab_type": "text",
    "id": "FzomQ12L21aK"
   },
   "source": [
    "Clean b2b missing"
   ]
  },
  {
   "cell_type": "code",
   "execution_count": null,
   "metadata": {
    "colab": {},
    "colab_type": "code",
    "id": "Eu0flXyS2z6h"
   },
   "outputs": [],
   "source": [
    "df_result.loc[df_result.company_name == \"aa research and analytics\", \"b2b\"] = 1"
   ]
  },
  {
   "cell_type": "code",
   "execution_count": null,
   "metadata": {
    "colab": {
     "base_uri": "https://localhost:8080/",
     "height": 421
    },
    "colab_type": "code",
    "executionInfo": {
     "elapsed": 53669,
     "status": "ok",
     "timestamp": 1581685181710,
     "user": {
      "displayName": "DISPLAYNAME",
      "photoUrl": "PHOTOURL",
      "userId": "USERID"
     },
     "user_tz": 0
    },
    "id": "85kLuexxm5B5",
    "outputId": "12085f70-3a04-4587-d100-3222c7145f12"
   },
   "outputs": [],
   "source": [
    "df_result_temp = df_result[['company_name','b2b']]\n",
    "df_result_temp[0:12]"
   ]
  },
  {
   "cell_type": "code",
   "execution_count": null,
   "metadata": {
    "colab": {
     "base_uri": "https://localhost:8080/",
     "height": 80
    },
    "colab_type": "code",
    "executionInfo": {
     "elapsed": 53662,
     "status": "ok",
     "timestamp": 1581685181711,
     "user": {
      "displayName": "DISPLAYNAME",
      "photoUrl": "PHOTOURL",
      "userId": "USERID"
     },
     "user_tz": 0
    },
    "id": "J-6n-PIXmUH0",
    "outputId": "b978fd8e-a5a2-456c-9456-2d472ae8fcac"
   },
   "outputs": [],
   "source": [
    "df_result_temp.loc[df_result_temp['company_name'] == \"aa research and analytics\"]"
   ]
  },
  {
   "cell_type": "markdown",
   "metadata": {
    "colab_type": "text",
    "id": "gdcLrizeKhC5"
   },
   "source": [
    "Add missing events"
   ]
  },
  {
   "cell_type": "code",
   "execution_count": null,
   "metadata": {
    "colab": {},
    "colab_type": "code",
    "id": "06Bqr3ZnKiU5"
   },
   "outputs": [],
   "source": [
    "df_result.loc[df_result.company_name == \"typescore\", \"deal_date_2\"] = datetime.datetime(2019, 2, 5)\n",
    "df_result.loc[df_result.company_name == \"typescore\", \"deal_type_2\"] = \"Out of Business\"\n",
    "\n",
    "df_result.loc[df_result.company_name == \"exantas\", \"deal_date_2\"] = datetime.datetime(2019, 1, 10)\n",
    "df_result.loc[df_result.company_name == \"exantas\", \"deal_type_2\"] = \"Out of Business\""
   ]
  },
  {
   "cell_type": "code",
   "execution_count": null,
   "metadata": {
    "colab": {},
    "colab_type": "code",
    "id": "XHk8I-jOY36n"
   },
   "outputs": [],
   "source": [
    "df_result = df_result.loc[df_result['current_twitter_handle'] != \"aventuspf\"]"
   ]
  },
  {
   "cell_type": "code",
   "execution_count": null,
   "metadata": {
    "colab": {
     "base_uri": "https://localhost:8080/",
     "height": 146
    },
    "colab_type": "code",
    "executionInfo": {
     "elapsed": 53821,
     "status": "ok",
     "timestamp": 1581685181896,
     "user": {
      "displayName": "DISPLAYNAME",
      "photoUrl": "PHOTOURL",
      "userId": "USERID"
     },
     "user_tz": 0
    },
    "id": "TjQi5MoOY73Z",
    "outputId": "53249fb8-2bfb-481c-eb78-796b586d3495"
   },
   "outputs": [],
   "source": [
    "df_result.loc[df_result['company_name'] == \"aventus systems\"]"
   ]
  },
  {
   "cell_type": "code",
   "execution_count": null,
   "metadata": {
    "colab": {
     "base_uri": "https://localhost:8080/",
     "height": 34
    },
    "colab_type": "code",
    "executionInfo": {
     "elapsed": 53814,
     "status": "ok",
     "timestamp": 1581685181897,
     "user": {
      "displayName": "DISPLAYNAME",
      "photoUrl": "PHOTOURL",
      "userId": "USERID"
     },
     "user_tz": 0
    },
    "id": "CGCzr7ybeOBb",
    "outputId": "0776eb05-0eb2-4512-ea41-33e250983444"
   },
   "outputs": [],
   "source": [
    "df_result[\"company_name\"].value_counts().max()"
   ]
  },
  {
   "cell_type": "code",
   "execution_count": null,
   "metadata": {
    "colab": {
     "base_uri": "https://localhost:8080/",
     "height": 304
    },
    "colab_type": "code",
    "executionInfo": {
     "elapsed": 53986,
     "status": "ok",
     "timestamp": 1581685182078,
     "user": {
      "displayName": "DISPLAYNAME",
      "photoUrl": "PHOTOURL",
      "userId": "USERID"
     },
     "user_tz": 0
    },
    "id": "8yzpIpufgGlP",
    "outputId": "4297c799-5bb5-49ca-8404-e8b2c92470d4"
   },
   "outputs": [],
   "source": [
    "twitter_id_headers = [e for e in list(df_result) if \"twitter_id\" in e and e not in ('dropper')]\n",
    "twitter_id_headers\n",
    "df_result[twitter_id_headers] = df_result[twitter_id_headers].fillna(0).astype(int).astype(str).replace(\"0\", \"NA\")\n",
    "df_result.head()"
   ]
  },
  {
   "cell_type": "markdown",
   "metadata": {
    "colab_type": "text",
    "id": "fXjS5mg3hVvV"
   },
   "source": [
    "# Describe"
   ]
  },
  {
   "cell_type": "markdown",
   "metadata": {
    "colab_type": "text",
    "id": "MwtYSsz9hVvV"
   },
   "source": [
    "## Overview"
   ]
  },
  {
   "cell_type": "code",
   "execution_count": null,
   "metadata": {
    "colab": {
     "base_uri": "https://localhost:8080/",
     "height": 346
    },
    "colab_type": "code",
    "executionInfo": {
     "elapsed": 55259,
     "status": "ok",
     "timestamp": 1581685183359,
     "user": {
      "displayName": "DISPLAYNAME",
      "photoUrl": "PHOTOURL",
      "userId": "USERID"
     },
     "user_tz": 0
    },
    "id": "SjaJLwkjhVvV",
    "outputId": "873e83b2-8bde-4e2c-a496-59c02c9016f2"
   },
   "outputs": [],
   "source": [
    "df_result_describe = df_result.describe()\n",
    "df_result_describe"
   ]
  },
  {
   "cell_type": "markdown",
   "metadata": {
    "colab_type": "text",
    "id": "yRn4cVIqhVvW"
   },
   "source": [
    "## Deciles"
   ]
  },
  {
   "cell_type": "code",
   "execution_count": null,
   "metadata": {
    "colab": {
     "base_uri": "https://localhost:8080/",
     "height": 439
    },
    "colab_type": "code",
    "executionInfo": {
     "elapsed": 55448,
     "status": "ok",
     "timestamp": 1581685183557,
     "user": {
      "displayName": "DISPLAYNAME",
      "photoUrl": "PHOTOURL",
      "userId": "USERID"
     },
     "user_tz": 0
    },
    "id": "z77QYwwZhVvW",
    "outputId": "ad79c07e-aa1c-4b75-c187-4f9ae5b2fb2a"
   },
   "outputs": [],
   "source": [
    "df_result_deciles = df_result.quantile([0,0.1,0.2,0.3,0.4,0.5,0.6,0.7,0.8,0.9,1])\n",
    "df_result_deciles"
   ]
  },
  {
   "cell_type": "markdown",
   "metadata": {
    "colab_type": "text",
    "id": "JOdAFNIsdZYx"
   },
   "source": [
    "### Fill missing cells"
   ]
  },
  {
   "cell_type": "code",
   "execution_count": null,
   "metadata": {
    "colab": {},
    "colab_type": "code",
    "id": "EKG1KBqBddfA"
   },
   "outputs": [],
   "source": [
    "#df_database.loc[df_database.company_name == \"10x banking\", \"twitter_handle_1\"] = \"LALALA TWITTER HANDLE\""
   ]
  },
  {
   "cell_type": "markdown",
   "metadata": {
    "colab_type": "text",
    "id": "tOVPx9-be9BR"
   },
   "source": [
    "# Save"
   ]
  },
  {
   "cell_type": "code",
   "execution_count": null,
   "metadata": {
    "colab": {
     "base_uri": "https://localhost:8080/",
     "height": 34
    },
    "colab_type": "code",
    "executionInfo": {
     "elapsed": 65243,
     "status": "ok",
     "timestamp": 1581685193369,
     "user": {
      "displayName": "DISPLAYNAME",
      "photoUrl": "PHOTOURL",
      "userId": "USERID"
     },
     "user_tz": 0
    },
    "id": "bTTWyPvXe9BV",
    "outputId": "4bf2e8d3-9103-4a49-c3b4-af0fec4dba0c"
   },
   "outputs": [],
   "source": [
    "with pd.ExcelWriter(base_path + \"Analysis/Database.xlsx\") as writer:\n",
    "  df_result.to_excel(writer, sheet_name= \"df_database\", index=False)\n",
    "  df_result_describe.to_excel(writer, sheet_name= \"df_result_describe\")\n",
    "  df_result_deciles.to_excel(writer, sheet_name= \"df_result_deciles\")\n",
    "   \n",
    "print(\"File save to \" + base_path + \"Analysis/Database.xlsx \" + str(os.path.isfile(base_path + \"Analysis/Database.xlsx\")) + \" File check\")"
   ]
  }
 ],
 "metadata": {
  "colab": {
   "collapsed_sections": [
    "_UiSCnHMzxTO",
    "EtDZGyHseWJn",
    "6WQRkBrP6IWu",
    "DJHMQe8xYrY-",
    "6x_Qe2ejflqU",
    "Cd-vipaz6NtS",
    "ip_QZGZsph24",
    "njFE2jZDsRau",
    "njV9PMg-uoob",
    "sAMwhUEyaMF7",
    "5s7de-VFxDJD"
   ],
   "name": "2020-02-09 Initial Database Builder.ipynb",
   "provenance": [
    {
     "file_id": "1km0C76vHnCnMBPaY_vyk29i_B0oJhV4k",
     "timestamp": 1569526639207
    },
    {
     "file_id": "1iBE_6XtdZnKTZ5KMpfW74drWI_NxDA-x",
     "timestamp": 1569231259191
    },
    {
     "file_id": "1TNmiViEyXErYkV08GQCizjHp_Sss02rD",
     "timestamp": 1568903690995
    },
    {
     "file_id": "1U1B72yhT3Kkbfn5rbCFb4f2GWAK6UrPI",
     "timestamp": 1568882907003
    },
    {
     "file_id": "1e57Gg-Urr6f0ayc74_IodB9DwbKn5bI8",
     "timestamp": 1568221268938
    },
    {
     "file_id": "1Aqn1E6YDohzDptKu3MNE055301dPzFae",
     "timestamp": 1567004542641
    },
    {
     "file_id": "1A7OLuqsFkiz2kSwsZXW3TaHIcJ0f6SBM",
     "timestamp": 1566473353476
    },
    {
     "file_id": "11fyUGKLvDdmnpdFo-Ts09xen3yE_tHix",
     "timestamp": 1566309678773
    },
    {
     "file_id": "1-iSIWfy36rVCJhGXYP4SWZSSTiLHXJ3G",
     "timestamp": 1562863230164
    },
    {
     "file_id": "1oSpAZrQlbLMTixvXLyjtOgnyZXVBHLQi",
     "timestamp": 1562328843560
    },
    {
     "file_id": "10UCD3TWkTf6hDGOV-_CCCynPXSsCYO3n",
     "timestamp": 1562323246961
    },
    {
     "file_id": "15QRBSbcrYpbewz8myHQOoCd4-nKqhASZ",
     "timestamp": 1561653386761
    },
    {
     "file_id": "1-9kxDMgceweRGl_zIGHvnTcwMlzomODH",
     "timestamp": 1556205592533
    },
    {
     "file_id": "1mTryAvLavFvas33kPBgT19iNTwQNxh_u",
     "timestamp": 1553178425626
    },
    {
     "file_id": "1U5MCYMX_5UhDolckQ-BnSS7Uh6dBgdlj",
     "timestamp": 1551880685493
    },
    {
     "file_id": "15BWsYFK0N56rOxhvo1j1fq6NPqwD76vY",
     "timestamp": 1550073111513
    },
    {
     "file_id": "1OxM3t0c52RUjuJ-xZlWmsq7Mvc1EcLAB",
     "timestamp": 1548687077019
    },
    {
     "file_id": "12OObFs1VNchNjs8g9fxzeUWQrOy51zZ4",
     "timestamp": 1546858641805
    },
    {
     "file_id": "19-ucU5SBwcSj7h61p0kcQlf4LtS5_aAX",
     "timestamp": 1546686005658
    },
    {
     "file_id": "1wccFM7_j9wj6KAE98y4WwP5Odh2bMrDE",
     "timestamp": 1545226420317
    },
    {
     "file_id": "17P21SSPpWdSKRLA6EyGcnumWfiCtgBgb",
     "timestamp": 1543846949443
    },
    {
     "file_id": "1VsiYPq87rURsmH6RIfUV4D2L_YZp8_Xe",
     "timestamp": 1542661377912
    },
    {
     "file_id": "18Dwh_R17EFSGaRhWnL5bXPzK2Z-pELlq",
     "timestamp": 1542399656381
    },
    {
     "file_id": "1nz8j09wBKGpJc9bNPMmklKpdpf4Ab0Qh",
     "timestamp": 1542116840823
    },
    {
     "file_id": "1hGumty8VJfu3sl24XuWhxVFyIl1qQClb",
     "timestamp": 1541719952114
    },
    {
     "file_id": "1HtN33Tuoq0aOlfrBHbFPQj7tLrAcDrOu",
     "timestamp": 1541677310940
    },
    {
     "file_id": "16S7Y35sm3lofM8vd6K5BWbPbE41YXUeg",
     "timestamp": 1541608377363
    },
    {
     "file_id": "19H-OHLrIYEwpS15Oi04UJx2vyEBtbDn4",
     "timestamp": 1541433996850
    },
    {
     "file_id": "1ZSXQLJuZ34-X8EdpxZWnWlhkS5ehaKiQ",
     "timestamp": 1541161347379
    }
   ]
  },
  "kernelspec": {
   "display_name": "Python 3",
   "language": "python",
   "name": "python3"
  },
  "language_info": {
   "codemirror_mode": {
    "name": "ipython",
    "version": 3
   },
   "file_extension": ".py",
   "mimetype": "text/x-python",
   "name": "python",
   "nbconvert_exporter": "python",
   "pygments_lexer": "ipython3",
   "version": "3.6.5"
  }
 },
 "nbformat": 4,
 "nbformat_minor": 1
}
